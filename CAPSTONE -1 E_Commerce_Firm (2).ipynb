{
 "cells": [
  {
   "cell_type": "code",
   "execution_count": 1,
   "metadata": {},
   "outputs": [],
   "source": [
    "import numpy as np\n",
    "import pandas as pd\n",
    "import matplotlib.pyplot as plt\n",
    "%matplotlib inline\n",
    "import seaborn as sns\n",
    "import warnings\n",
    "warnings.filterwarnings('ignore')"
   ]
  },
  {
   "cell_type": "code",
   "execution_count": 2,
   "metadata": {},
   "outputs": [],
   "source": [
    "df_customers = pd.read_csv('customers.csv')          #1     #importing & creating a dataframe for all 7 csv files#\n",
    "df_orders = pd.read_csv('orders.csv')                #2\n",
    "df_order_items = pd.read_csv('order_items.csv')      #3\n",
    "df_payments = pd.read_csv('payments.csv')            #4\n",
    "df_products = pd.read_csv('products.csv')            #5\n",
    "df_sellers = pd.read_csv('sellers.csv')              #6\n",
    "df_user_feedback = pd.read_csv('user_feedback.csv')  #7\n"
   ]
  },
  {
   "cell_type": "code",
   "execution_count": 169,
   "metadata": {},
   "outputs": [
    {
     "data": {
      "text/html": [
       "<div>\n",
       "<style scoped>\n",
       "    .dataframe tbody tr th:only-of-type {\n",
       "        vertical-align: middle;\n",
       "    }\n",
       "\n",
       "    .dataframe tbody tr th {\n",
       "        vertical-align: top;\n",
       "    }\n",
       "\n",
       "    .dataframe thead th {\n",
       "        text-align: right;\n",
       "    }\n",
       "</style>\n",
       "<table border=\"1\" class=\"dataframe\">\n",
       "  <thead>\n",
       "    <tr style=\"text-align: right;\">\n",
       "      <th></th>\n",
       "      <th>customer_id</th>\n",
       "      <th>customer_unique_id</th>\n",
       "      <th>customer_state</th>\n",
       "    </tr>\n",
       "  </thead>\n",
       "  <tbody>\n",
       "    <tr>\n",
       "      <th>0</th>\n",
       "      <td>06b8999e2f</td>\n",
       "      <td>861eff4711</td>\n",
       "      <td>SP</td>\n",
       "    </tr>\n",
       "    <tr>\n",
       "      <th>1</th>\n",
       "      <td>18955e83d3</td>\n",
       "      <td>290c77bc52</td>\n",
       "      <td>SP</td>\n",
       "    </tr>\n",
       "    <tr>\n",
       "      <th>2</th>\n",
       "      <td>4e7b3e0028</td>\n",
       "      <td>060e732b5b</td>\n",
       "      <td>SP</td>\n",
       "    </tr>\n",
       "  </tbody>\n",
       "</table>\n",
       "</div>"
      ],
      "text/plain": [
       "  customer_id customer_unique_id customer_state\n",
       "0  06b8999e2f         861eff4711             SP\n",
       "1  18955e83d3         290c77bc52             SP\n",
       "2  4e7b3e0028         060e732b5b             SP"
      ]
     },
     "execution_count": 169,
     "metadata": {},
     "output_type": "execute_result"
    }
   ],
   "source": [
    "df_customers.head(3)              #checking the first 3 records in \"customers.csv\" #"
   ]
  },
  {
   "cell_type": "code",
   "execution_count": 3,
   "metadata": {},
   "outputs": [
    {
     "data": {
      "text/html": [
       "<div>\n",
       "<style scoped>\n",
       "    .dataframe tbody tr th:only-of-type {\n",
       "        vertical-align: middle;\n",
       "    }\n",
       "\n",
       "    .dataframe tbody tr th {\n",
       "        vertical-align: top;\n",
       "    }\n",
       "\n",
       "    .dataframe thead th {\n",
       "        text-align: right;\n",
       "    }\n",
       "</style>\n",
       "<table border=\"1\" class=\"dataframe\">\n",
       "  <thead>\n",
       "    <tr style=\"text-align: right;\">\n",
       "      <th></th>\n",
       "      <th>order_id</th>\n",
       "      <th>customer_id</th>\n",
       "      <th>order_status</th>\n",
       "      <th>order_purchase_timestamp</th>\n",
       "      <th>order_approved_at</th>\n",
       "      <th>order_delivered_to_carrier_date</th>\n",
       "      <th>order_delivered_to_customer_date</th>\n",
       "      <th>order_estimated_delivery_date</th>\n",
       "      <th>order_delivery days</th>\n",
       "      <th>order delivery days(new)</th>\n",
       "    </tr>\n",
       "  </thead>\n",
       "  <tbody>\n",
       "    <tr>\n",
       "      <th>91238</th>\n",
       "      <td>77c6569705</td>\n",
       "      <td>543e8185af</td>\n",
       "      <td>delivered</td>\n",
       "      <td>16-05-17 17:41</td>\n",
       "      <td>16-05-17 17:50</td>\n",
       "      <td>17-05-17 9:05</td>\n",
       "      <td>01-06-17 14:43</td>\n",
       "      <td>20-06-17 0:00</td>\n",
       "      <td>16</td>\n",
       "      <td>16</td>\n",
       "    </tr>\n",
       "    <tr>\n",
       "      <th>91102</th>\n",
       "      <td>9a75a775d1</td>\n",
       "      <td>97efa29b4c</td>\n",
       "      <td>delivered</td>\n",
       "      <td>11-01-17 15:56</td>\n",
       "      <td>13-01-17 2:10</td>\n",
       "      <td>17-01-17 12:13</td>\n",
       "      <td>24-01-17 14:14</td>\n",
       "      <td>23-02-17 0:00</td>\n",
       "      <td>11</td>\n",
       "      <td>11</td>\n",
       "    </tr>\n",
       "    <tr>\n",
       "      <th>85035</th>\n",
       "      <td>479c3d9dba</td>\n",
       "      <td>8cca023b5d</td>\n",
       "      <td>delivered</td>\n",
       "      <td>25-02-18 18:03</td>\n",
       "      <td>26-02-18 18:10</td>\n",
       "      <td>27-02-18 19:02</td>\n",
       "      <td>22-03-18 19:29</td>\n",
       "      <td>20-03-18 0:00</td>\n",
       "      <td>24</td>\n",
       "      <td>24</td>\n",
       "    </tr>\n",
       "    <tr>\n",
       "      <th>84526</th>\n",
       "      <td>03ecec2452</td>\n",
       "      <td>0d34797f47</td>\n",
       "      <td>delivered</td>\n",
       "      <td>11-06-18 12:58</td>\n",
       "      <td>11-06-18 20:23</td>\n",
       "      <td>12-06-18 14:35</td>\n",
       "      <td>21-06-18 11:37</td>\n",
       "      <td>17-07-18 0:00</td>\n",
       "      <td>10</td>\n",
       "      <td>10</td>\n",
       "    </tr>\n",
       "    <tr>\n",
       "      <th>18955</th>\n",
       "      <td>51b60dccff</td>\n",
       "      <td>5c05ebb5e9</td>\n",
       "      <td>delivered</td>\n",
       "      <td>06-01-18 18:58</td>\n",
       "      <td>06-01-18 19:07</td>\n",
       "      <td>08-01-18 19:32</td>\n",
       "      <td>11-01-18 19:22</td>\n",
       "      <td>09-02-18 0:00</td>\n",
       "      <td>5</td>\n",
       "      <td>5</td>\n",
       "    </tr>\n",
       "    <tr>\n",
       "      <th>78863</th>\n",
       "      <td>687114e8d8</td>\n",
       "      <td>d7596b2c9f</td>\n",
       "      <td>delivered</td>\n",
       "      <td>16-03-18 7:38</td>\n",
       "      <td>17-03-18 15:15</td>\n",
       "      <td>20-03-18 23:33</td>\n",
       "      <td>26-03-18 22:42</td>\n",
       "      <td>10-04-18 0:00</td>\n",
       "      <td>9</td>\n",
       "      <td>9</td>\n",
       "    </tr>\n",
       "    <tr>\n",
       "      <th>6376</th>\n",
       "      <td>5a58354708</td>\n",
       "      <td>a6df8d7ce4</td>\n",
       "      <td>delivered</td>\n",
       "      <td>08-06-17 9:18</td>\n",
       "      <td>08-06-17 9:30</td>\n",
       "      <td>08-06-17 14:08</td>\n",
       "      <td>19-06-17 14:27</td>\n",
       "      <td>03-07-17 0:00</td>\n",
       "      <td>11</td>\n",
       "      <td>11</td>\n",
       "    </tr>\n",
       "    <tr>\n",
       "      <th>11868</th>\n",
       "      <td>450c4a4d9a</td>\n",
       "      <td>5d990cc985</td>\n",
       "      <td>delivered</td>\n",
       "      <td>09-07-18 11:39</td>\n",
       "      <td>09-07-18 11:50</td>\n",
       "      <td>10-07-18 14:35</td>\n",
       "      <td>11-07-18 21:25</td>\n",
       "      <td>20-07-18 0:00</td>\n",
       "      <td>2</td>\n",
       "      <td>2</td>\n",
       "    </tr>\n",
       "  </tbody>\n",
       "</table>\n",
       "</div>"
      ],
      "text/plain": [
       "         order_id customer_id order_status order_purchase_timestamp  \\\n",
       "91238  77c6569705  543e8185af    delivered           16-05-17 17:41   \n",
       "91102  9a75a775d1  97efa29b4c    delivered           11-01-17 15:56   \n",
       "85035  479c3d9dba  8cca023b5d    delivered           25-02-18 18:03   \n",
       "84526  03ecec2452  0d34797f47    delivered           11-06-18 12:58   \n",
       "18955  51b60dccff  5c05ebb5e9    delivered           06-01-18 18:58   \n",
       "78863  687114e8d8  d7596b2c9f    delivered            16-03-18 7:38   \n",
       "6376   5a58354708  a6df8d7ce4    delivered            08-06-17 9:18   \n",
       "11868  450c4a4d9a  5d990cc985    delivered           09-07-18 11:39   \n",
       "\n",
       "      order_approved_at order_delivered_to_carrier_date  \\\n",
       "91238    16-05-17 17:50                   17-05-17 9:05   \n",
       "91102     13-01-17 2:10                  17-01-17 12:13   \n",
       "85035    26-02-18 18:10                  27-02-18 19:02   \n",
       "84526    11-06-18 20:23                  12-06-18 14:35   \n",
       "18955    06-01-18 19:07                  08-01-18 19:32   \n",
       "78863    17-03-18 15:15                  20-03-18 23:33   \n",
       "6376      08-06-17 9:30                  08-06-17 14:08   \n",
       "11868    09-07-18 11:50                  10-07-18 14:35   \n",
       "\n",
       "      order_delivered_to_customer_date order_estimated_delivery_date  \\\n",
       "91238                   01-06-17 14:43                 20-06-17 0:00   \n",
       "91102                   24-01-17 14:14                 23-02-17 0:00   \n",
       "85035                   22-03-18 19:29                 20-03-18 0:00   \n",
       "84526                   21-06-18 11:37                 17-07-18 0:00   \n",
       "18955                   11-01-18 19:22                 09-02-18 0:00   \n",
       "78863                   26-03-18 22:42                 10-04-18 0:00   \n",
       "6376                    19-06-17 14:27                 03-07-17 0:00   \n",
       "11868                   11-07-18 21:25                 20-07-18 0:00   \n",
       "\n",
       "       order_delivery days  order delivery days(new)  \n",
       "91238                   16                        16  \n",
       "91102                   11                        11  \n",
       "85035                   24                        24  \n",
       "84526                   10                        10  \n",
       "18955                    5                         5  \n",
       "78863                    9                         9  \n",
       "6376                    11                        11  \n",
       "11868                    2                         2  "
      ]
     },
     "execution_count": 3,
     "metadata": {},
     "output_type": "execute_result"
    }
   ],
   "source": [
    "df_orders.sample(8)                 #checking the first 2 records in \"orders.csv\" #"
   ]
  },
  {
   "cell_type": "code",
   "execution_count": 140,
   "metadata": {},
   "outputs": [
    {
     "data": {
      "text/plain": [
       "(99441, 3)"
      ]
     },
     "execution_count": 140,
     "metadata": {},
     "output_type": "execute_result"
    }
   ],
   "source": [
    "df_customers.shape   # checking the shape of the data#"
   ]
  },
  {
   "cell_type": "code",
   "execution_count": 141,
   "metadata": {},
   "outputs": [
    {
     "data": {
      "text/plain": [
       "(99441, 10)"
      ]
     },
     "execution_count": 141,
     "metadata": {},
     "output_type": "execute_result"
    }
   ],
   "source": [
    "df_orders.shape"
   ]
  },
  {
   "cell_type": "markdown",
   "metadata": {},
   "source": [
    "# Merging \"customers\" & \"orders\" dataframes"
   ]
  },
  {
   "cell_type": "code",
   "execution_count": 3,
   "metadata": {},
   "outputs": [
    {
     "data": {
      "text/html": [
       "<div>\n",
       "<style scoped>\n",
       "    .dataframe tbody tr th:only-of-type {\n",
       "        vertical-align: middle;\n",
       "    }\n",
       "\n",
       "    .dataframe tbody tr th {\n",
       "        vertical-align: top;\n",
       "    }\n",
       "\n",
       "    .dataframe thead th {\n",
       "        text-align: right;\n",
       "    }\n",
       "</style>\n",
       "<table border=\"1\" class=\"dataframe\">\n",
       "  <thead>\n",
       "    <tr style=\"text-align: right;\">\n",
       "      <th></th>\n",
       "      <th>customer_id</th>\n",
       "      <th>customer_unique_id</th>\n",
       "      <th>customer_state</th>\n",
       "      <th>order_id</th>\n",
       "      <th>order_status</th>\n",
       "      <th>order_purchase_timestamp</th>\n",
       "      <th>order_approved_at</th>\n",
       "      <th>order_delivered_to_carrier_date</th>\n",
       "      <th>order_delivered_to_customer_date</th>\n",
       "      <th>order_estimated_delivery_date</th>\n",
       "      <th>order_delivery days</th>\n",
       "      <th>order delivery days(new)</th>\n",
       "    </tr>\n",
       "  </thead>\n",
       "  <tbody>\n",
       "    <tr>\n",
       "      <th>0</th>\n",
       "      <td>06b8999e2f</td>\n",
       "      <td>861eff4711</td>\n",
       "      <td>SP</td>\n",
       "      <td>00e7ee1b05</td>\n",
       "      <td>delivered</td>\n",
       "      <td>16-05-17 15:05</td>\n",
       "      <td>16-05-17 15:22</td>\n",
       "      <td>23-05-17 10:47</td>\n",
       "      <td>25-05-17 10:35</td>\n",
       "      <td>05-06-17 0:00</td>\n",
       "      <td>9</td>\n",
       "      <td>9</td>\n",
       "    </tr>\n",
       "    <tr>\n",
       "      <th>1</th>\n",
       "      <td>18955e83d3</td>\n",
       "      <td>290c77bc52</td>\n",
       "      <td>SP</td>\n",
       "      <td>2.92E+13</td>\n",
       "      <td>delivered</td>\n",
       "      <td>12-01-18 20:48</td>\n",
       "      <td>12-01-18 20:58</td>\n",
       "      <td>15-01-18 17:14</td>\n",
       "      <td>29-01-18 12:41</td>\n",
       "      <td>06-02-18 0:00</td>\n",
       "      <td>17</td>\n",
       "      <td>17</td>\n",
       "    </tr>\n",
       "    <tr>\n",
       "      <th>2</th>\n",
       "      <td>4e7b3e0028</td>\n",
       "      <td>060e732b5b</td>\n",
       "      <td>SP</td>\n",
       "      <td>b2059ed67c</td>\n",
       "      <td>delivered</td>\n",
       "      <td>19-05-18 16:07</td>\n",
       "      <td>20-05-18 16:19</td>\n",
       "      <td>11-06-18 14:31</td>\n",
       "      <td>14-06-18 17:58</td>\n",
       "      <td>13-06-18 0:00</td>\n",
       "      <td>25</td>\n",
       "      <td>25</td>\n",
       "    </tr>\n",
       "    <tr>\n",
       "      <th>3</th>\n",
       "      <td>b2b6027bc5</td>\n",
       "      <td>259dac7578</td>\n",
       "      <td>SP</td>\n",
       "      <td>951670f923</td>\n",
       "      <td>delivered</td>\n",
       "      <td>13-03-18 16:06</td>\n",
       "      <td>13-03-18 17:29</td>\n",
       "      <td>27-03-18 23:22</td>\n",
       "      <td>28-03-18 16:04</td>\n",
       "      <td>10-04-18 0:00</td>\n",
       "      <td>15</td>\n",
       "      <td>15</td>\n",
       "    </tr>\n",
       "    <tr>\n",
       "      <th>4</th>\n",
       "      <td>4f2d8ab171</td>\n",
       "      <td>345ecd01c3</td>\n",
       "      <td>SP</td>\n",
       "      <td>6b7d50bd14</td>\n",
       "      <td>delivered</td>\n",
       "      <td>29-07-18 9:51</td>\n",
       "      <td>29-07-18 10:10</td>\n",
       "      <td>30-07-18 15:16</td>\n",
       "      <td>09-08-18 20:55</td>\n",
       "      <td>15-08-18 0:00</td>\n",
       "      <td>11</td>\n",
       "      <td>11</td>\n",
       "    </tr>\n",
       "  </tbody>\n",
       "</table>\n",
       "</div>"
      ],
      "text/plain": [
       "  customer_id customer_unique_id customer_state    order_id order_status  \\\n",
       "0  06b8999e2f         861eff4711             SP  00e7ee1b05    delivered   \n",
       "1  18955e83d3         290c77bc52             SP    2.92E+13    delivered   \n",
       "2  4e7b3e0028         060e732b5b             SP  b2059ed67c    delivered   \n",
       "3  b2b6027bc5         259dac7578             SP  951670f923    delivered   \n",
       "4  4f2d8ab171         345ecd01c3             SP  6b7d50bd14    delivered   \n",
       "\n",
       "  order_purchase_timestamp order_approved_at order_delivered_to_carrier_date  \\\n",
       "0           16-05-17 15:05    16-05-17 15:22                  23-05-17 10:47   \n",
       "1           12-01-18 20:48    12-01-18 20:58                  15-01-18 17:14   \n",
       "2           19-05-18 16:07    20-05-18 16:19                  11-06-18 14:31   \n",
       "3           13-03-18 16:06    13-03-18 17:29                  27-03-18 23:22   \n",
       "4            29-07-18 9:51    29-07-18 10:10                  30-07-18 15:16   \n",
       "\n",
       "  order_delivered_to_customer_date order_estimated_delivery_date  \\\n",
       "0                   25-05-17 10:35                 05-06-17 0:00   \n",
       "1                   29-01-18 12:41                 06-02-18 0:00   \n",
       "2                   14-06-18 17:58                 13-06-18 0:00   \n",
       "3                   28-03-18 16:04                 10-04-18 0:00   \n",
       "4                   09-08-18 20:55                 15-08-18 0:00   \n",
       "\n",
       "   order_delivery days  order delivery days(new)  \n",
       "0                    9                         9  \n",
       "1                   17                        17  \n",
       "2                   25                        25  \n",
       "3                   15                        15  \n",
       "4                   11                        11  "
      ]
     },
     "execution_count": 3,
     "metadata": {},
     "output_type": "execute_result"
    }
   ],
   "source": [
    "df12=pd.merge(df_customers,df_orders, on='customer_id',how='inner')\n",
    "df12.head(5)"
   ]
  },
  {
   "cell_type": "code",
   "execution_count": 143,
   "metadata": {},
   "outputs": [
    {
     "name": "stdout",
     "output_type": "stream",
     "text": [
      "<class 'pandas.core.frame.DataFrame'>\n",
      "Int64Index: 99128 entries, 0 to 99127\n",
      "Data columns (total 12 columns):\n",
      " #   Column                            Non-Null Count  Dtype \n",
      "---  ------                            --------------  ----- \n",
      " 0   customer_id                       99128 non-null  object\n",
      " 1   customer_unique_id                99128 non-null  object\n",
      " 2   customer_state                    99128 non-null  object\n",
      " 3   order_id                          99128 non-null  object\n",
      " 4   order_status                      99128 non-null  object\n",
      " 5   order_purchase_timestamp          99128 non-null  object\n",
      " 6   order_approved_at                 98969 non-null  object\n",
      " 7   order_delivered_to_carrier_date   97348 non-null  object\n",
      " 8   order_delivered_to_customer_date  96170 non-null  object\n",
      " 9   order_estimated_delivery_date     99128 non-null  object\n",
      " 10  order_delivery days               99128 non-null  int64 \n",
      " 11  order delivery days(new)          99128 non-null  int64 \n",
      "dtypes: int64(2), object(10)\n",
      "memory usage: 9.8+ MB\n"
     ]
    }
   ],
   "source": [
    "df12.info()"
   ]
  },
  {
   "cell_type": "code",
   "execution_count": 172,
   "metadata": {},
   "outputs": [
    {
     "data": {
      "text/plain": [
       "order_delivered_to_customer_date    2958\n",
       "order_delivered_to_carrier_date     1780\n",
       "order_approved_at                    159\n",
       "order delivery days(new)               0\n",
       "order_delivery days                    0\n",
       "order_estimated_delivery_date          0\n",
       "order_purchase_timestamp               0\n",
       "order_status                           0\n",
       "order_id                               0\n",
       "customer_state                         0\n",
       "customer_unique_id                     0\n",
       "customer_id                            0\n",
       "dtype: int64"
      ]
     },
     "execution_count": 172,
     "metadata": {},
     "output_type": "execute_result"
    }
   ],
   "source": [
    "df12.isnull().sum().sort_values(ascending=False)             "
   ]
  },
  {
   "cell_type": "markdown",
   "metadata": {},
   "source": [
    "\n",
    "\n",
    "# Question 1"
   ]
  },
  {
   "cell_type": "markdown",
   "metadata": {},
   "source": [
    "/Find the percentage of orders which are 'delivered','cancelled' & 'invoiced'?/ "
   ]
  },
  {
   "cell_type": "code",
   "execution_count": 173,
   "metadata": {},
   "outputs": [
    {
     "data": {
      "text/plain": [
       "delivered      97.017997\n",
       "shipped         1.113712\n",
       "canceled        0.627472\n",
       "unavailable     0.614357\n",
       "invoiced        0.316762\n",
       "processing      0.302639\n",
       "created         0.005044\n",
       "approved        0.002018\n",
       "Name: order_status, dtype: float64"
      ]
     },
     "execution_count": 173,
     "metadata": {},
     "output_type": "execute_result"
    }
   ],
   "source": [
    "B=pd.value_counts(df12['order_status'],normalize= True)*100\n",
    "B"
   ]
  },
  {
   "cell_type": "code",
   "execution_count": 174,
   "metadata": {},
   "outputs": [
    {
     "data": {
      "text/plain": [
       "order_status\n",
       "delivered      96172\n",
       "shipped         1104\n",
       "canceled         622\n",
       "unavailable      609\n",
       "invoiced         314\n",
       "processing       300\n",
       "created            5\n",
       "approved           2\n",
       "Name: order_id, dtype: int64"
      ]
     },
     "execution_count": 174,
     "metadata": {},
     "output_type": "execute_result"
    }
   ],
   "source": [
    " count_of_orders=df12.groupby('order_status')['order_id'].count().sort_values(ascending=False)\n",
    " count_of_orders   "
   ]
  },
  {
   "cell_type": "code",
   "execution_count": 175,
   "metadata": {},
   "outputs": [
    {
     "data": {
      "image/png": "[encoded data removed]",
      "text/plain": [
       "<Figure size 864x360 with 1 Axes>"
      ]
     },
     "metadata": {},
     "output_type": "display_data"
    }
   ],
   "source": [
    "sns.set(style='dark')\n",
    "plt.figure(figsize=(12,5))\n",
    "B.plot(kind=\"bar\")\n",
    "plt.xlabel('order status')\n",
    "plt.ylabel('percentage of orders')\n",
    "plt.show()"
   ]
  },
  {
   "cell_type": "markdown",
   "metadata": {},
   "source": [
    "97% of orders have order_status 'delivered',1% have order_status 'shipped',0.62% are 'cancelled'. This states that performance of firm is good in fulfilling the orders."
   ]
  },
  {
   "cell_type": "markdown",
   "metadata": {},
   "source": [
    "# Question 2"
   ]
  },
  {
   "cell_type": "markdown",
   "metadata": {},
   "source": [
    " /Find the states with maximum no of orders ?/"
   ]
  },
  {
   "cell_type": "code",
   "execution_count": 176,
   "metadata": {},
   "outputs": [
    {
     "name": "stdout",
     "output_type": "stream",
     "text": [
      "['CE' 'MG' 'MA' 'RS' 'SP' 'RJ' 'ES' 'SE' 'PI' 'PA' 'AP' 'GO' 'RN' 'RR'\n",
      " 'BA' 'PE' 'AM' 'PB' 'PR' 'SC' 'AL' 'MT' 'AC' 'DF' 'MS' 'TO' 'RO']\n"
     ]
    }
   ],
   "source": [
    " A=pd.unique(df12['customer_state'])        #finding unique customer states#\n",
    " print(A)"
   ]
  },
  {
   "cell_type": "code",
   "execution_count": 177,
   "metadata": {},
   "outputs": [
    {
     "data": {
      "text/plain": [
       "customer_state\n",
       "SP    41622\n",
       "RJ    12819\n",
       "MG    11591\n",
       "RS     5451\n",
       "PR     5025\n",
       "SC     3619\n",
       "BA     3367\n",
       "DF     2135\n",
       "ES     2018\n",
       "GO     2017\n",
       "PE     1650\n",
       "CE     1334\n",
       "PA      971\n",
       "MT      906\n",
       "MA      743\n",
       "MS      714\n",
       "PB      535\n",
       "PI      491\n",
       "RN      484\n",
       "AL      413\n",
       "SE      350\n",
       "TO      280\n",
       "RO      253\n",
       "AM      147\n",
       "AC       80\n",
       "AP       68\n",
       "RR       45\n",
       "Name: order_id, dtype: int64"
      ]
     },
     "execution_count": 177,
     "metadata": {},
     "output_type": "execute_result"
    }
   ],
   "source": [
    "A=df12.groupby('customer_state')['order_id'].count().sort_values(ascending=False)\n",
    "A"
   ]
  },
  {
   "cell_type": "code",
   "execution_count": 178,
   "metadata": {},
   "outputs": [
    {
     "data": {
      "image/png": "[encoded data removed]",
      "text/plain": [
       "<Figure size 1008x360 with 1 Axes>"
      ]
     },
     "metadata": {},
     "output_type": "display_data"
    }
   ],
   "source": [
    "plt.figure(figsize=(14,5)) \n",
    "plt.title('States with maximum no of orders')\n",
    "A.plot(kind=\"bar\")\n",
    "plt.show()"
   ]
  },
  {
   "cell_type": "markdown",
   "metadata": {},
   "source": [
    "SP is the state with maxium no of orders & Maximum % of orders are from first 7 states."
   ]
  },
  {
   "cell_type": "markdown",
   "metadata": {},
   "source": [
    "# Question 3"
   ]
  },
  {
   "cell_type": "markdown",
   "metadata": {},
   "source": [
    "/Find the average days required to deliver a product to the customer?/"
   ]
  },
  {
   "cell_type": "code",
   "execution_count": 96,
   "metadata": {},
   "outputs": [],
   "source": [
    "#creating a new column \"order delivery days (new)\" by taking difference of \"order_approved_at\" & \"order_delivered_to_customer_date\" which shows no of days taken to reach the order to customer#"
   ]
  },
  {
   "cell_type": "code",
   "execution_count": 6,
   "metadata": {},
   "outputs": [
    {
     "data": {
      "text/html": [
       "<div>\n",
       "<style scoped>\n",
       "    .dataframe tbody tr th:only-of-type {\n",
       "        vertical-align: middle;\n",
       "    }\n",
       "\n",
       "    .dataframe tbody tr th {\n",
       "        vertical-align: top;\n",
       "    }\n",
       "\n",
       "    .dataframe thead th {\n",
       "        text-align: right;\n",
       "    }\n",
       "</style>\n",
       "<table border=\"1\" class=\"dataframe\">\n",
       "  <thead>\n",
       "    <tr style=\"text-align: right;\">\n",
       "      <th></th>\n",
       "      <th>customer_id</th>\n",
       "      <th>customer_unique_id</th>\n",
       "      <th>customer_state</th>\n",
       "      <th>order_id</th>\n",
       "      <th>order_status</th>\n",
       "      <th>order_purchase_timestamp</th>\n",
       "      <th>order_approved_at</th>\n",
       "      <th>order_delivered_to_carrier_date</th>\n",
       "      <th>order_delivered_to_customer_date</th>\n",
       "      <th>order_estimated_delivery_date</th>\n",
       "      <th>order_delivery days</th>\n",
       "      <th>order delivery days(new)</th>\n",
       "    </tr>\n",
       "  </thead>\n",
       "  <tbody>\n",
       "    <tr>\n",
       "      <th>51710</th>\n",
       "      <td>fb92827a7e</td>\n",
       "      <td>dac216c244</td>\n",
       "      <td>SP</td>\n",
       "      <td>0ee3384432</td>\n",
       "      <td>delivered</td>\n",
       "      <td>11-03-18 16:26</td>\n",
       "      <td>11-03-18 16:35</td>\n",
       "      <td>13-03-18 11:34</td>\n",
       "      <td>19-03-18 21:18</td>\n",
       "      <td>03-04-18 0:00</td>\n",
       "      <td>8</td>\n",
       "      <td>8</td>\n",
       "    </tr>\n",
       "    <tr>\n",
       "      <th>33594</th>\n",
       "      <td>97170ff49e</td>\n",
       "      <td>a0ea502116</td>\n",
       "      <td>SP</td>\n",
       "      <td>d62354cddc</td>\n",
       "      <td>delivered</td>\n",
       "      <td>17-08-18 22:52</td>\n",
       "      <td>17-08-18 23:09</td>\n",
       "      <td>20-08-18 9:25</td>\n",
       "      <td>21-08-18 15:50</td>\n",
       "      <td>23-08-18 0:00</td>\n",
       "      <td>4</td>\n",
       "      <td>4</td>\n",
       "    </tr>\n",
       "    <tr>\n",
       "      <th>52440</th>\n",
       "      <td>e18f0839b6</td>\n",
       "      <td>6c734067f6</td>\n",
       "      <td>SP</td>\n",
       "      <td>be39a55492</td>\n",
       "      <td>delivered</td>\n",
       "      <td>08-03-18 12:49</td>\n",
       "      <td>08-03-18 13:08</td>\n",
       "      <td>08-03-18 23:06</td>\n",
       "      <td>12-03-18 22:16</td>\n",
       "      <td>20-03-18 0:00</td>\n",
       "      <td>4</td>\n",
       "      <td>4</td>\n",
       "    </tr>\n",
       "    <tr>\n",
       "      <th>93820</th>\n",
       "      <td>5fd34b6c72</td>\n",
       "      <td>a9fb026555</td>\n",
       "      <td>MG</td>\n",
       "      <td>020c2cd20d</td>\n",
       "      <td>delivered</td>\n",
       "      <td>28-11-17 14:19</td>\n",
       "      <td>28-11-17 14:30</td>\n",
       "      <td>29-11-17 16:24</td>\n",
       "      <td>04-12-17 18:08</td>\n",
       "      <td>21-12-17 0:00</td>\n",
       "      <td>6</td>\n",
       "      <td>6</td>\n",
       "    </tr>\n",
       "    <tr>\n",
       "      <th>26021</th>\n",
       "      <td>1388eca3c7</td>\n",
       "      <td>ae52fa61f2</td>\n",
       "      <td>MG</td>\n",
       "      <td>423a4ec157</td>\n",
       "      <td>delivered</td>\n",
       "      <td>06-06-17 23:09</td>\n",
       "      <td>07-06-17 14:25</td>\n",
       "      <td>09-06-17 9:21</td>\n",
       "      <td>19-06-17 19:58</td>\n",
       "      <td>03-07-17 0:00</td>\n",
       "      <td>12</td>\n",
       "      <td>12</td>\n",
       "    </tr>\n",
       "    <tr>\n",
       "      <th>44014</th>\n",
       "      <td>74493089ca</td>\n",
       "      <td>298888cf6c</td>\n",
       "      <td>BA</td>\n",
       "      <td>f27fd91faf</td>\n",
       "      <td>delivered</td>\n",
       "      <td>14-06-17 15:39</td>\n",
       "      <td>14-06-17 16:02</td>\n",
       "      <td>16-06-17 15:36</td>\n",
       "      <td>28-06-17 16:46</td>\n",
       "      <td>17-07-17 0:00</td>\n",
       "      <td>14</td>\n",
       "      <td>14</td>\n",
       "    </tr>\n",
       "    <tr>\n",
       "      <th>62995</th>\n",
       "      <td>e79f3050c5</td>\n",
       "      <td>82b6a2e2d9</td>\n",
       "      <td>SP</td>\n",
       "      <td>f9161376e0</td>\n",
       "      <td>delivered</td>\n",
       "      <td>26-04-18 21:24</td>\n",
       "      <td>26-04-18 21:35</td>\n",
       "      <td>27-04-18 15:26</td>\n",
       "      <td>30-04-18 23:03</td>\n",
       "      <td>11-05-18 0:00</td>\n",
       "      <td>4</td>\n",
       "      <td>4</td>\n",
       "    </tr>\n",
       "    <tr>\n",
       "      <th>94623</th>\n",
       "      <td>c4d9ef5fc8</td>\n",
       "      <td>dc256bf8f2</td>\n",
       "      <td>SP</td>\n",
       "      <td>364f4189ee</td>\n",
       "      <td>delivered</td>\n",
       "      <td>14-08-17 8:40</td>\n",
       "      <td>14-08-17 8:55</td>\n",
       "      <td>14-08-17 19:31</td>\n",
       "      <td>17-08-17 19:52</td>\n",
       "      <td>01-09-17 0:00</td>\n",
       "      <td>3</td>\n",
       "      <td>3</td>\n",
       "    </tr>\n",
       "  </tbody>\n",
       "</table>\n",
       "</div>"
      ],
      "text/plain": [
       "      customer_id customer_unique_id customer_state    order_id order_status  \\\n",
       "51710  fb92827a7e         dac216c244             SP  0ee3384432    delivered   \n",
       "33594  97170ff49e         a0ea502116             SP  d62354cddc    delivered   \n",
       "52440  e18f0839b6         6c734067f6             SP  be39a55492    delivered   \n",
       "93820  5fd34b6c72         a9fb026555             MG  020c2cd20d    delivered   \n",
       "26021  1388eca3c7         ae52fa61f2             MG  423a4ec157    delivered   \n",
       "44014  74493089ca         298888cf6c             BA  f27fd91faf    delivered   \n",
       "62995  e79f3050c5         82b6a2e2d9             SP  f9161376e0    delivered   \n",
       "94623  c4d9ef5fc8         dc256bf8f2             SP  364f4189ee    delivered   \n",
       "\n",
       "      order_purchase_timestamp order_approved_at  \\\n",
       "51710           11-03-18 16:26    11-03-18 16:35   \n",
       "33594           17-08-18 22:52    17-08-18 23:09   \n",
       "52440           08-03-18 12:49    08-03-18 13:08   \n",
       "93820           28-11-17 14:19    28-11-17 14:30   \n",
       "26021           06-06-17 23:09    07-06-17 14:25   \n",
       "44014           14-06-17 15:39    14-06-17 16:02   \n",
       "62995           26-04-18 21:24    26-04-18 21:35   \n",
       "94623            14-08-17 8:40     14-08-17 8:55   \n",
       "\n",
       "      order_delivered_to_carrier_date order_delivered_to_customer_date  \\\n",
       "51710                  13-03-18 11:34                   19-03-18 21:18   \n",
       "33594                   20-08-18 9:25                   21-08-18 15:50   \n",
       "52440                  08-03-18 23:06                   12-03-18 22:16   \n",
       "93820                  29-11-17 16:24                   04-12-17 18:08   \n",
       "26021                   09-06-17 9:21                   19-06-17 19:58   \n",
       "44014                  16-06-17 15:36                   28-06-17 16:46   \n",
       "62995                  27-04-18 15:26                   30-04-18 23:03   \n",
       "94623                  14-08-17 19:31                   17-08-17 19:52   \n",
       "\n",
       "      order_estimated_delivery_date  order_delivery days  \\\n",
       "51710                 03-04-18 0:00                    8   \n",
       "33594                 23-08-18 0:00                    4   \n",
       "52440                 20-03-18 0:00                    4   \n",
       "93820                 21-12-17 0:00                    6   \n",
       "26021                 03-07-17 0:00                   12   \n",
       "44014                 17-07-17 0:00                   14   \n",
       "62995                 11-05-18 0:00                    4   \n",
       "94623                 01-09-17 0:00                    3   \n",
       "\n",
       "       order delivery days(new)  \n",
       "51710                         8  \n",
       "33594                         4  \n",
       "52440                         4  \n",
       "93820                         6  \n",
       "26021                        12  \n",
       "44014                        14  \n",
       "62995                         4  \n",
       "94623                         3  "
      ]
     },
     "execution_count": 6,
     "metadata": {},
     "output_type": "execute_result"
    }
   ],
   "source": [
    "df12.sample(8)"
   ]
  },
  {
   "cell_type": "code",
   "execution_count": 9,
   "metadata": {},
   "outputs": [
    {
     "data": {
      "text/plain": [
       "17.668368170446293"
      ]
     },
     "execution_count": 9,
     "metadata": {},
     "output_type": "execute_result"
    }
   ],
   "source": [
    " df12['order delivery days(new)'].mean()     "
   ]
  },
  {
   "cell_type": "code",
   "execution_count": 4,
   "metadata": {},
   "outputs": [],
   "source": [
    "newdf12=df12.dropna(axis=0,how= 'any',inplace=False) # creating a new dataframe and dropping null values rows temporarily#"
   ]
  },
  {
   "cell_type": "code",
   "execution_count": 7,
   "metadata": {},
   "outputs": [
    {
     "data": {
      "text/plain": [
       "11.983526597680827"
      ]
     },
     "execution_count": 7,
     "metadata": {},
     "output_type": "execute_result"
    }
   ],
   "source": [
    "newdf12['order delivery days(new)'].mean()"
   ]
  },
  {
   "cell_type": "code",
   "execution_count": 185,
   "metadata": {},
   "outputs": [
    {
     "name": "stdout",
     "output_type": "stream",
     "text": [
      "the average days reqiured to deliver a product to a customer : 12\n"
     ]
    }
   ],
   "source": [
    "print(\"the average days reqiured to deliver a product to a customer :\",round(newdf12['order delivery days(new)'].mean() ))"
   ]
  },
  {
   "cell_type": "code",
   "execution_count": 8,
   "metadata": {},
   "outputs": [
    {
     "data": {
      "text/html": [
       "<div>\n",
       "<style scoped>\n",
       "    .dataframe tbody tr th:only-of-type {\n",
       "        vertical-align: middle;\n",
       "    }\n",
       "\n",
       "    .dataframe tbody tr th {\n",
       "        vertical-align: top;\n",
       "    }\n",
       "\n",
       "    .dataframe thead th {\n",
       "        text-align: right;\n",
       "    }\n",
       "</style>\n",
       "<table border=\"1\" class=\"dataframe\">\n",
       "  <thead>\n",
       "    <tr style=\"text-align: right;\">\n",
       "      <th></th>\n",
       "      <th>order_delivery days</th>\n",
       "    </tr>\n",
       "    <tr>\n",
       "      <th>order delivery days(new)</th>\n",
       "      <th></th>\n",
       "    </tr>\n",
       "  </thead>\n",
       "  <tbody>\n",
       "    <tr>\n",
       "      <th>7</th>\n",
       "      <td>7688</td>\n",
       "    </tr>\n",
       "    <tr>\n",
       "      <th>6</th>\n",
       "      <td>7344</td>\n",
       "    </tr>\n",
       "    <tr>\n",
       "      <th>8</th>\n",
       "      <td>6702</td>\n",
       "    </tr>\n",
       "    <tr>\n",
       "      <th>9</th>\n",
       "      <td>6059</td>\n",
       "    </tr>\n",
       "    <tr>\n",
       "      <th>5</th>\n",
       "      <td>5648</td>\n",
       "    </tr>\n",
       "    <tr>\n",
       "      <th>10</th>\n",
       "      <td>5497</td>\n",
       "    </tr>\n",
       "    <tr>\n",
       "      <th>11</th>\n",
       "      <td>4978</td>\n",
       "    </tr>\n",
       "    <tr>\n",
       "      <th>4</th>\n",
       "      <td>4724</td>\n",
       "    </tr>\n",
       "    <tr>\n",
       "      <th>12</th>\n",
       "      <td>4696</td>\n",
       "    </tr>\n",
       "    <tr>\n",
       "      <th>13</th>\n",
       "      <td>4393</td>\n",
       "    </tr>\n",
       "  </tbody>\n",
       "</table>\n",
       "</div>"
      ],
      "text/plain": [
       "                          order_delivery days\n",
       "order delivery days(new)                     \n",
       "7                                        7688\n",
       "6                                        7344\n",
       "8                                        6702\n",
       "9                                        6059\n",
       "5                                        5648\n",
       "10                                       5497\n",
       "11                                       4978\n",
       "4                                        4724\n",
       "12                                       4696\n",
       "13                                       4393"
      ]
     },
     "execution_count": 8,
     "metadata": {},
     "output_type": "execute_result"
    }
   ],
   "source": [
    "ax=newdf12.groupby('order delivery days(new)').count().sort_values(by=\"order_delivery days\",ascending=False)[:10]\n",
    "ax.drop(['customer_unique_id','customer_state','order_status','order_purchase_timestamp','order_purchase_timestamp','order_approved_at','order_delivered_to_carrier_date','order_delivered_to_customer_date','order_estimated_delivery_date','customer_id','order_id'],axis=1)                                                              #grouping data according to \"order delivery days\""
   ]
  },
  {
   "cell_type": "markdown",
   "metadata": {},
   "source": [
    "Results of above analysis-\n",
    "\n",
    "1.the average days reqiured to deliver a product to a customer is 12\n",
    "\n",
    "2.The delivery time of most of orders were between \"6-9 Days\". "
   ]
  },
  {
   "cell_type": "markdown",
   "metadata": {},
   "source": [
    "# Question 4"
   ]
  },
  {
   "cell_type": "markdown",
   "metadata": {},
   "source": [
    "/what is the max,min,Average price of the items purchased? /"
   ]
  },
  {
   "cell_type": "code",
   "execution_count": 11,
   "metadata": {},
   "outputs": [
    {
     "data": {
      "text/html": [
       "<div>\n",
       "<style scoped>\n",
       "    .dataframe tbody tr th:only-of-type {\n",
       "        vertical-align: middle;\n",
       "    }\n",
       "\n",
       "    .dataframe tbody tr th {\n",
       "        vertical-align: top;\n",
       "    }\n",
       "\n",
       "    .dataframe thead th {\n",
       "        text-align: right;\n",
       "    }\n",
       "</style>\n",
       "<table border=\"1\" class=\"dataframe\">\n",
       "  <thead>\n",
       "    <tr style=\"text-align: right;\">\n",
       "      <th></th>\n",
       "      <th>order_id</th>\n",
       "      <th>product_id</th>\n",
       "      <th>seller_id</th>\n",
       "      <th>price</th>\n",
       "    </tr>\n",
       "  </thead>\n",
       "  <tbody>\n",
       "    <tr>\n",
       "      <th>0</th>\n",
       "      <td>00010242fe</td>\n",
       "      <td>4244733e06</td>\n",
       "      <td>48436dade1</td>\n",
       "      <td>58</td>\n",
       "    </tr>\n",
       "    <tr>\n",
       "      <th>1</th>\n",
       "      <td>00018f77f2</td>\n",
       "      <td>e5f2d52b80</td>\n",
       "      <td>dd7ddc04e1</td>\n",
       "      <td>239</td>\n",
       "    </tr>\n",
       "    <tr>\n",
       "      <th>2</th>\n",
       "      <td>000229ec39</td>\n",
       "      <td>c777355d18</td>\n",
       "      <td>5b51032edd</td>\n",
       "      <td>199</td>\n",
       "    </tr>\n",
       "    <tr>\n",
       "      <th>3</th>\n",
       "      <td>00024acbcd</td>\n",
       "      <td>7634da152a</td>\n",
       "      <td>9d7a1d34a5</td>\n",
       "      <td>12</td>\n",
       "    </tr>\n",
       "  </tbody>\n",
       "</table>\n",
       "</div>"
      ],
      "text/plain": [
       "     order_id  product_id   seller_id  price\n",
       "0  00010242fe  4244733e06  48436dade1     58\n",
       "1  00018f77f2  e5f2d52b80  dd7ddc04e1    239\n",
       "2  000229ec39  c777355d18  5b51032edd    199\n",
       "3  00024acbcd  7634da152a  9d7a1d34a5     12"
      ]
     },
     "execution_count": 11,
     "metadata": {},
     "output_type": "execute_result"
    }
   ],
   "source": [
    "df_order_items = pd.read_csv('order_items.csv')      #reading the order items csv file#\n",
    "df_order_items.head(4)"
   ]
  },
  {
   "cell_type": "code",
   "execution_count": 57,
   "metadata": {},
   "outputs": [
    {
     "data": {
      "text/plain": [
       "order_id      0\n",
       "product_id    0\n",
       "seller_id     0\n",
       "price         0\n",
       "dtype: int64"
      ]
     },
     "execution_count": 57,
     "metadata": {},
     "output_type": "execute_result"
    }
   ],
   "source": [
    "df_order_items.isnull().sum().sort_values(ascending=True)     # no null values are found in this csv file#"
   ]
  },
  {
   "cell_type": "code",
   "execution_count": 58,
   "metadata": {},
   "outputs": [
    {
     "data": {
      "text/html": [
       "<div>\n",
       "<style scoped>\n",
       "    .dataframe tbody tr th:only-of-type {\n",
       "        vertical-align: middle;\n",
       "    }\n",
       "\n",
       "    .dataframe tbody tr th {\n",
       "        vertical-align: top;\n",
       "    }\n",
       "\n",
       "    .dataframe thead th {\n",
       "        text-align: right;\n",
       "    }\n",
       "</style>\n",
       "<table border=\"1\" class=\"dataframe\">\n",
       "  <thead>\n",
       "    <tr style=\"text-align: right;\">\n",
       "      <th></th>\n",
       "      <th>price</th>\n",
       "    </tr>\n",
       "  </thead>\n",
       "  <tbody>\n",
       "    <tr>\n",
       "      <th>count</th>\n",
       "      <td>112650.000000</td>\n",
       "    </tr>\n",
       "    <tr>\n",
       "      <th>mean</th>\n",
       "      <td>120.052668</td>\n",
       "    </tr>\n",
       "    <tr>\n",
       "      <th>std</th>\n",
       "      <td>183.699547</td>\n",
       "    </tr>\n",
       "    <tr>\n",
       "      <th>min</th>\n",
       "      <td>0.000000</td>\n",
       "    </tr>\n",
       "    <tr>\n",
       "      <th>25%</th>\n",
       "      <td>39.000000</td>\n",
       "    </tr>\n",
       "    <tr>\n",
       "      <th>50%</th>\n",
       "      <td>74.000000</td>\n",
       "    </tr>\n",
       "    <tr>\n",
       "      <th>75%</th>\n",
       "      <td>134.000000</td>\n",
       "    </tr>\n",
       "    <tr>\n",
       "      <th>max</th>\n",
       "      <td>6735.000000</td>\n",
       "    </tr>\n",
       "  </tbody>\n",
       "</table>\n",
       "</div>"
      ],
      "text/plain": [
       "               price\n",
       "count  112650.000000\n",
       "mean      120.052668\n",
       "std       183.699547\n",
       "min         0.000000\n",
       "25%        39.000000\n",
       "50%        74.000000\n",
       "75%       134.000000\n",
       "max      6735.000000"
      ]
     },
     "execution_count": 58,
     "metadata": {},
     "output_type": "execute_result"
    }
   ],
   "source": [
    "df_order_items.describe()"
   ]
  },
  {
   "cell_type": "code",
   "execution_count": 20,
   "metadata": {},
   "outputs": [
    {
     "name": "stdout",
     "output_type": "stream",
     "text": [
      "Maximum price an item : 6735\n",
      "Minimum price of an item is : 0\n",
      "Average price of an item : 120\n"
     ]
    }
   ],
   "source": [
    "print(\"Maximum price an item :\", max(df_order_items.price))\n",
    "print(\"Minimum price of an item is :\", min(df_order_items.price))\n",
    "print(\"Average price of an item :\", round((df_order_items.price).mean()))\n"
   ]
  },
  {
   "cell_type": "markdown",
   "metadata": {},
   "source": [
    "# Question 5"
   ]
  },
  {
   "cell_type": "code",
   "execution_count": null,
   "metadata": {},
   "outputs": [],
   "source": [
    "/Compare different mode of payments which users have used ?/\n"
   ]
  },
  {
   "cell_type": "code",
   "execution_count": 12,
   "metadata": {},
   "outputs": [],
   "source": [
    " df_payments = pd.read_csv('payments.csv')    # reading the payment csv file#"
   ]
  },
  {
   "cell_type": "code",
   "execution_count": 28,
   "metadata": {},
   "outputs": [
    {
     "data": {
      "text/plain": [
       "(103886, 3)"
      ]
     },
     "execution_count": 28,
     "metadata": {},
     "output_type": "execute_result"
    }
   ],
   "source": [
    "df_payments.shape"
   ]
  },
  {
   "cell_type": "code",
   "execution_count": 42,
   "metadata": {},
   "outputs": [
    {
     "data": {
      "text/html": [
       "<div>\n",
       "<style scoped>\n",
       "    .dataframe tbody tr th:only-of-type {\n",
       "        vertical-align: middle;\n",
       "    }\n",
       "\n",
       "    .dataframe tbody tr th {\n",
       "        vertical-align: top;\n",
       "    }\n",
       "\n",
       "    .dataframe thead th {\n",
       "        text-align: right;\n",
       "    }\n",
       "</style>\n",
       "<table border=\"1\" class=\"dataframe\">\n",
       "  <thead>\n",
       "    <tr style=\"text-align: right;\">\n",
       "      <th></th>\n",
       "      <th>order_id</th>\n",
       "      <th>payment_type</th>\n",
       "      <th>payment_value</th>\n",
       "    </tr>\n",
       "  </thead>\n",
       "  <tbody>\n",
       "    <tr>\n",
       "      <th>0</th>\n",
       "      <td>b81ef226f3</td>\n",
       "      <td>credit_card</td>\n",
       "      <td>99</td>\n",
       "    </tr>\n",
       "    <tr>\n",
       "      <th>1</th>\n",
       "      <td>a9810da829</td>\n",
       "      <td>credit_card</td>\n",
       "      <td>24</td>\n",
       "    </tr>\n",
       "  </tbody>\n",
       "</table>\n",
       "</div>"
      ],
      "text/plain": [
       "     order_id payment_type  payment_value\n",
       "0  b81ef226f3  credit_card             99\n",
       "1  a9810da829  credit_card             24"
      ]
     },
     "execution_count": 42,
     "metadata": {},
     "output_type": "execute_result"
    }
   ],
   "source": [
    " df_payments.head(2)"
   ]
  },
  {
   "cell_type": "code",
   "execution_count": 41,
   "metadata": {},
   "outputs": [
    {
     "data": {
      "text/plain": [
       "order_id         0\n",
       "payment_type     0\n",
       "payment_value    0\n",
       "dtype: int64"
      ]
     },
     "execution_count": 41,
     "metadata": {},
     "output_type": "execute_result"
    }
   ],
   "source": [
    " df_payments.isnull().sum().sort_values(ascending=True)         #no null values are present #"
   ]
  },
  {
   "cell_type": "markdown",
   "metadata": {},
   "source": [
    "# Merging \"orders & \"payments\" dataframes"
   ]
  },
  {
   "cell_type": "code",
   "execution_count": 13,
   "metadata": {},
   "outputs": [
    {
     "data": {
      "text/html": [
       "<div>\n",
       "<style scoped>\n",
       "    .dataframe tbody tr th:only-of-type {\n",
       "        vertical-align: middle;\n",
       "    }\n",
       "\n",
       "    .dataframe tbody tr th {\n",
       "        vertical-align: top;\n",
       "    }\n",
       "\n",
       "    .dataframe thead th {\n",
       "        text-align: right;\n",
       "    }\n",
       "</style>\n",
       "<table border=\"1\" class=\"dataframe\">\n",
       "  <thead>\n",
       "    <tr style=\"text-align: right;\">\n",
       "      <th></th>\n",
       "      <th>order_id</th>\n",
       "      <th>customer_id</th>\n",
       "      <th>order_status</th>\n",
       "      <th>order_purchase_timestamp</th>\n",
       "      <th>order_approved_at</th>\n",
       "      <th>order_delivered_to_carrier_date</th>\n",
       "      <th>order_delivered_to_customer_date</th>\n",
       "      <th>order_estimated_delivery_date</th>\n",
       "      <th>order_delivery days</th>\n",
       "      <th>order delivery days(new)</th>\n",
       "      <th>payment_type</th>\n",
       "      <th>payment_value</th>\n",
       "    </tr>\n",
       "  </thead>\n",
       "  <tbody>\n",
       "    <tr>\n",
       "      <th>0</th>\n",
       "      <td>e481f51cbd</td>\n",
       "      <td>9ef432eb62</td>\n",
       "      <td>delivered</td>\n",
       "      <td>02-10-17 10:56</td>\n",
       "      <td>02-10-17 11:07</td>\n",
       "      <td>04-10-17 19:55</td>\n",
       "      <td>10-10-17 21:25</td>\n",
       "      <td>18-10-17 0:00</td>\n",
       "      <td>8</td>\n",
       "      <td>8</td>\n",
       "      <td>credit_card</td>\n",
       "      <td>18.0</td>\n",
       "    </tr>\n",
       "    <tr>\n",
       "      <th>1</th>\n",
       "      <td>e481f51cbd</td>\n",
       "      <td>9ef432eb62</td>\n",
       "      <td>delivered</td>\n",
       "      <td>02-10-17 10:56</td>\n",
       "      <td>02-10-17 11:07</td>\n",
       "      <td>04-10-17 19:55</td>\n",
       "      <td>10-10-17 21:25</td>\n",
       "      <td>18-10-17 0:00</td>\n",
       "      <td>8</td>\n",
       "      <td>8</td>\n",
       "      <td>voucher</td>\n",
       "      <td>2.0</td>\n",
       "    </tr>\n",
       "  </tbody>\n",
       "</table>\n",
       "</div>"
      ],
      "text/plain": [
       "     order_id customer_id order_status order_purchase_timestamp  \\\n",
       "0  e481f51cbd  9ef432eb62    delivered           02-10-17 10:56   \n",
       "1  e481f51cbd  9ef432eb62    delivered           02-10-17 10:56   \n",
       "\n",
       "  order_approved_at order_delivered_to_carrier_date  \\\n",
       "0    02-10-17 11:07                  04-10-17 19:55   \n",
       "1    02-10-17 11:07                  04-10-17 19:55   \n",
       "\n",
       "  order_delivered_to_customer_date order_estimated_delivery_date  \\\n",
       "0                   10-10-17 21:25                 18-10-17 0:00   \n",
       "1                   10-10-17 21:25                 18-10-17 0:00   \n",
       "\n",
       "   order_delivery days  order delivery days(new) payment_type  payment_value  \n",
       "0                    8                         8  credit_card           18.0  \n",
       "1                    8                         8      voucher            2.0  "
      ]
     },
     "execution_count": 13,
     "metadata": {},
     "output_type": "execute_result"
    }
   ],
   "source": [
    "df24 = pd.merge(df_orders,df_payments,on='order_id',how='left')     #merging orders & payment dataframes#\n",
    "df24.head(2)"
   ]
  },
  {
   "cell_type": "code",
   "execution_count": 43,
   "metadata": {},
   "outputs": [],
   "source": [
    "count_of_payments=df24.groupby('payment_type')['payment_value'].count().sort_values(ascending=False).reset_index()\n",
    "      "
   ]
  },
  {
   "cell_type": "code",
   "execution_count": 125,
   "metadata": {},
   "outputs": [
    {
     "name": "stdout",
     "output_type": "stream",
     "text": [
      "  payment_type  payment_value\n",
      "0  credit_card          76795\n",
      "1       boleto          19784\n",
      "2      voucher           5775\n",
      "3   debit_card           1529\n",
      "4  not_defined              3\n"
     ]
    }
   ],
   "source": [
    "print(g)"
   ]
  },
  {
   "cell_type": "code",
   "execution_count": 46,
   "metadata": {},
   "outputs": [
    {
     "data": {
      "image/png": "[encoded data removed]",
      "text/plain": [
       "<Figure size 720x288 with 1 Axes>"
      ]
     },
     "metadata": {},
     "output_type": "display_data"
    }
   ],
   "source": [
    "plt.figure(figsize=(10,4))\n",
    "sns.set(style='darkgrid')                                           #most of the payments are done through credit card#\n",
    "sns.barplot(x='payment_type',y='payment_value',data=count_of_payments)\n",
    "plt.show()"
   ]
  },
  {
   "cell_type": "code",
   "execution_count": 136,
   "metadata": {},
   "outputs": [
    {
     "data": {
      "text/html": [
       "<div>\n",
       "<style scoped>\n",
       "    .dataframe tbody tr th:only-of-type {\n",
       "        vertical-align: middle;\n",
       "    }\n",
       "\n",
       "    .dataframe tbody tr th {\n",
       "        vertical-align: top;\n",
       "    }\n",
       "\n",
       "    .dataframe thead th {\n",
       "        text-align: right;\n",
       "    }\n",
       "</style>\n",
       "<table border=\"1\" class=\"dataframe\">\n",
       "  <thead>\n",
       "    <tr style=\"text-align: right;\">\n",
       "      <th></th>\n",
       "      <th>payment_type</th>\n",
       "      <th>payment_value</th>\n",
       "    </tr>\n",
       "  </thead>\n",
       "  <tbody>\n",
       "    <tr>\n",
       "      <th>0</th>\n",
       "      <td>credit_card</td>\n",
       "      <td>162.840641</td>\n",
       "    </tr>\n",
       "    <tr>\n",
       "      <th>1</th>\n",
       "      <td>boleto</td>\n",
       "      <td>144.560301</td>\n",
       "    </tr>\n",
       "    <tr>\n",
       "      <th>2</th>\n",
       "      <td>debit_card</td>\n",
       "      <td>142.078483</td>\n",
       "    </tr>\n",
       "    <tr>\n",
       "      <th>3</th>\n",
       "      <td>voucher</td>\n",
       "      <td>65.305628</td>\n",
       "    </tr>\n",
       "    <tr>\n",
       "      <th>4</th>\n",
       "      <td>not_defined</td>\n",
       "      <td>0.000000</td>\n",
       "    </tr>\n",
       "  </tbody>\n",
       "</table>\n",
       "</div>"
      ],
      "text/plain": [
       "  payment_type  payment_value\n",
       "0  credit_card     162.840641\n",
       "1       boleto     144.560301\n",
       "2   debit_card     142.078483\n",
       "3      voucher      65.305628\n",
       "4  not_defined       0.000000"
      ]
     },
     "execution_count": 136,
     "metadata": {},
     "output_type": "execute_result"
    }
   ],
   "source": [
    "avg_payment_amount=df24.groupby('payment_type')['payment_value'].mean().sort_values(ascending=False).reset_index()\n",
    "avg_payment_amount"
   ]
  },
  {
   "cell_type": "code",
   "execution_count": 53,
   "metadata": {},
   "outputs": [
    {
     "data": {
      "image/png": "[encoded data removed]",
      "text/plain": [
       "<Figure size 720x288 with 1 Axes>"
      ]
     },
     "metadata": {},
     "output_type": "display_data"
    }
   ],
   "source": [
    "plt.figure(figsize=(10,4))                                      # graph for avg_payment #\n",
    "sns.set(style='darkgrid')\n",
    "sns.barplot(x='payment_type',y='payment_value',data=avg_payment_amount)\n",
    "plt.show()\n"
   ]
  },
  {
   "cell_type": "code",
   "execution_count": 135,
   "metadata": {},
   "outputs": [
    {
     "data": {
      "text/html": [
       "<div>\n",
       "<style scoped>\n",
       "    .dataframe tbody tr th:only-of-type {\n",
       "        vertical-align: middle;\n",
       "    }\n",
       "\n",
       "    .dataframe tbody tr th {\n",
       "        vertical-align: top;\n",
       "    }\n",
       "\n",
       "    .dataframe thead th {\n",
       "        text-align: right;\n",
       "    }\n",
       "</style>\n",
       "<table border=\"1\" class=\"dataframe\">\n",
       "  <thead>\n",
       "    <tr style=\"text-align: right;\">\n",
       "      <th></th>\n",
       "      <th>payment_type</th>\n",
       "      <th>payment_value</th>\n",
       "    </tr>\n",
       "  </thead>\n",
       "  <tbody>\n",
       "    <tr>\n",
       "      <th>0</th>\n",
       "      <td>credit_card</td>\n",
       "      <td>12505347.0</td>\n",
       "    </tr>\n",
       "    <tr>\n",
       "      <th>1</th>\n",
       "      <td>boleto</td>\n",
       "      <td>2859981.0</td>\n",
       "    </tr>\n",
       "    <tr>\n",
       "      <th>2</th>\n",
       "      <td>voucher</td>\n",
       "      <td>377140.0</td>\n",
       "    </tr>\n",
       "    <tr>\n",
       "      <th>3</th>\n",
       "      <td>debit_card</td>\n",
       "      <td>217238.0</td>\n",
       "    </tr>\n",
       "    <tr>\n",
       "      <th>4</th>\n",
       "      <td>not_defined</td>\n",
       "      <td>0.0</td>\n",
       "    </tr>\n",
       "  </tbody>\n",
       "</table>\n",
       "</div>"
      ],
      "text/plain": [
       "  payment_type  payment_value\n",
       "0  credit_card     12505347.0\n",
       "1       boleto      2859981.0\n",
       "2      voucher       377140.0\n",
       "3   debit_card       217238.0\n",
       "4  not_defined            0.0"
      ]
     },
     "execution_count": 135,
     "metadata": {},
     "output_type": "execute_result"
    }
   ],
   "source": [
    "sum_of_payment=df24.groupby('payment_type')['payment_value'].sum().sort_values(ascending=False).reset_index()\n",
    "sum_of_payment                                        "
   ]
  },
  {
   "cell_type": "markdown",
   "metadata": {},
   "source": [
    "Average_Payment_amount is similar for debit card,boleto,credit_card but lower for vocher mode.No of payments & total sum of payments is highest for credit card. This shows us that most of the customers prefers credit card as comapared to other modes."
   ]
  },
  {
   "cell_type": "markdown",
   "metadata": {},
   "source": [
    "# Question 6"
   ]
  },
  {
   "cell_type": "markdown",
   "metadata": {},
   "source": [
    "/ what are the top 15 categories of products according to sales & Quantity?/"
   ]
  },
  {
   "cell_type": "code",
   "execution_count": 14,
   "metadata": {},
   "outputs": [
    {
     "data": {
      "text/html": [
       "<div>\n",
       "<style scoped>\n",
       "    .dataframe tbody tr th:only-of-type {\n",
       "        vertical-align: middle;\n",
       "    }\n",
       "\n",
       "    .dataframe tbody tr th {\n",
       "        vertical-align: top;\n",
       "    }\n",
       "\n",
       "    .dataframe thead th {\n",
       "        text-align: right;\n",
       "    }\n",
       "</style>\n",
       "<table border=\"1\" class=\"dataframe\">\n",
       "  <thead>\n",
       "    <tr style=\"text-align: right;\">\n",
       "      <th></th>\n",
       "      <th>product_id</th>\n",
       "      <th>product_photos_count</th>\n",
       "      <th>product_length_cm</th>\n",
       "      <th>product_height_cm</th>\n",
       "      <th>product_width_cm</th>\n",
       "      <th>product_category_name</th>\n",
       "      <th>product_weight_kg</th>\n",
       "    </tr>\n",
       "  </thead>\n",
       "  <tbody>\n",
       "    <tr>\n",
       "      <th>0</th>\n",
       "      <td>1e9e8ef04d</td>\n",
       "      <td>1.0</td>\n",
       "      <td>16.0</td>\n",
       "      <td>10.0</td>\n",
       "      <td>14.0</td>\n",
       "      <td>perfumery</td>\n",
       "      <td>0.225</td>\n",
       "    </tr>\n",
       "    <tr>\n",
       "      <th>1</th>\n",
       "      <td>3aa071139c</td>\n",
       "      <td>1.0</td>\n",
       "      <td>30.0</td>\n",
       "      <td>18.0</td>\n",
       "      <td>20.0</td>\n",
       "      <td>art</td>\n",
       "      <td>1.000</td>\n",
       "    </tr>\n",
       "    <tr>\n",
       "      <th>2</th>\n",
       "      <td>96bd76ec88</td>\n",
       "      <td>1.0</td>\n",
       "      <td>18.0</td>\n",
       "      <td>9.0</td>\n",
       "      <td>15.0</td>\n",
       "      <td>sports_leisure</td>\n",
       "      <td>0.154</td>\n",
       "    </tr>\n",
       "    <tr>\n",
       "      <th>3</th>\n",
       "      <td>cef67bcfe1</td>\n",
       "      <td>1.0</td>\n",
       "      <td>26.0</td>\n",
       "      <td>4.0</td>\n",
       "      <td>26.0</td>\n",
       "      <td>baby</td>\n",
       "      <td>0.371</td>\n",
       "    </tr>\n",
       "    <tr>\n",
       "      <th>4</th>\n",
       "      <td>9dc1a7de27</td>\n",
       "      <td>4.0</td>\n",
       "      <td>20.0</td>\n",
       "      <td>17.0</td>\n",
       "      <td>13.0</td>\n",
       "      <td>housewares</td>\n",
       "      <td>0.625</td>\n",
       "    </tr>\n",
       "  </tbody>\n",
       "</table>\n",
       "</div>"
      ],
      "text/plain": [
       "   product_id  product_photos_count  product_length_cm  product_height_cm  \\\n",
       "0  1e9e8ef04d                   1.0               16.0               10.0   \n",
       "1  3aa071139c                   1.0               30.0               18.0   \n",
       "2  96bd76ec88                   1.0               18.0                9.0   \n",
       "3  cef67bcfe1                   1.0               26.0                4.0   \n",
       "4  9dc1a7de27                   4.0               20.0               17.0   \n",
       "\n",
       "   product_width_cm product_category_name  product_weight_kg  \n",
       "0              14.0             perfumery              0.225  \n",
       "1              20.0                   art              1.000  \n",
       "2              15.0        sports_leisure              0.154  \n",
       "3              26.0                  baby              0.371  \n",
       "4              13.0            housewares              0.625  "
      ]
     },
     "execution_count": 14,
     "metadata": {},
     "output_type": "execute_result"
    }
   ],
   "source": [
    "df_products = pd.read_csv('products.csv')\n",
    "df_products.head(5)"
   ]
  },
  {
   "cell_type": "code",
   "execution_count": 8,
   "metadata": {},
   "outputs": [
    {
     "data": {
      "text/plain": [
       "(32951, 7)"
      ]
     },
     "execution_count": 8,
     "metadata": {},
     "output_type": "execute_result"
    }
   ],
   "source": [
    "df_products.shape"
   ]
  },
  {
   "cell_type": "markdown",
   "metadata": {},
   "source": [
    "# Merging orders_items,products & payments dataframes"
   ]
  },
  {
   "cell_type": "code",
   "execution_count": 15,
   "metadata": {},
   "outputs": [
    {
     "data": {
      "text/html": [
       "<div>\n",
       "<style scoped>\n",
       "    .dataframe tbody tr th:only-of-type {\n",
       "        vertical-align: middle;\n",
       "    }\n",
       "\n",
       "    .dataframe tbody tr th {\n",
       "        vertical-align: top;\n",
       "    }\n",
       "\n",
       "    .dataframe thead th {\n",
       "        text-align: right;\n",
       "    }\n",
       "</style>\n",
       "<table border=\"1\" class=\"dataframe\">\n",
       "  <thead>\n",
       "    <tr style=\"text-align: right;\">\n",
       "      <th></th>\n",
       "      <th>order_id</th>\n",
       "      <th>product_id</th>\n",
       "      <th>seller_id</th>\n",
       "      <th>price</th>\n",
       "      <th>product_photos_count</th>\n",
       "      <th>product_length_cm</th>\n",
       "      <th>product_height_cm</th>\n",
       "      <th>product_width_cm</th>\n",
       "      <th>product_category_name</th>\n",
       "      <th>product_weight_kg</th>\n",
       "      <th>payment_type</th>\n",
       "      <th>payment_value</th>\n",
       "    </tr>\n",
       "  </thead>\n",
       "  <tbody>\n",
       "    <tr>\n",
       "      <th>0</th>\n",
       "      <td>00010242fe</td>\n",
       "      <td>4244733e06</td>\n",
       "      <td>48436dade1</td>\n",
       "      <td>58</td>\n",
       "      <td>4.0</td>\n",
       "      <td>28.0</td>\n",
       "      <td>9.0</td>\n",
       "      <td>14.0</td>\n",
       "      <td>cool_stuff</td>\n",
       "      <td>0.65</td>\n",
       "      <td>credit_card</td>\n",
       "      <td>72.0</td>\n",
       "    </tr>\n",
       "    <tr>\n",
       "      <th>1</th>\n",
       "      <td>00018f77f2</td>\n",
       "      <td>e5f2d52b80</td>\n",
       "      <td>dd7ddc04e1</td>\n",
       "      <td>239</td>\n",
       "      <td>2.0</td>\n",
       "      <td>50.0</td>\n",
       "      <td>30.0</td>\n",
       "      <td>40.0</td>\n",
       "      <td>pet_shop</td>\n",
       "      <td>30.00</td>\n",
       "      <td>credit_card</td>\n",
       "      <td>259.0</td>\n",
       "    </tr>\n",
       "    <tr>\n",
       "      <th>2</th>\n",
       "      <td>000229ec39</td>\n",
       "      <td>c777355d18</td>\n",
       "      <td>5b51032edd</td>\n",
       "      <td>199</td>\n",
       "      <td>2.0</td>\n",
       "      <td>33.0</td>\n",
       "      <td>13.0</td>\n",
       "      <td>33.0</td>\n",
       "      <td>furniture_decor</td>\n",
       "      <td>3.05</td>\n",
       "      <td>credit_card</td>\n",
       "      <td>216.0</td>\n",
       "    </tr>\n",
       "    <tr>\n",
       "      <th>3</th>\n",
       "      <td>00024acbcd</td>\n",
       "      <td>7634da152a</td>\n",
       "      <td>9d7a1d34a5</td>\n",
       "      <td>12</td>\n",
       "      <td>1.0</td>\n",
       "      <td>16.0</td>\n",
       "      <td>10.0</td>\n",
       "      <td>15.0</td>\n",
       "      <td>perfumery</td>\n",
       "      <td>0.20</td>\n",
       "      <td>credit_card</td>\n",
       "      <td>25.0</td>\n",
       "    </tr>\n",
       "    <tr>\n",
       "      <th>4</th>\n",
       "      <td>00042b26cf</td>\n",
       "      <td>ac6c362306</td>\n",
       "      <td>df560393f3</td>\n",
       "      <td>199</td>\n",
       "      <td>1.0</td>\n",
       "      <td>35.0</td>\n",
       "      <td>40.0</td>\n",
       "      <td>30.0</td>\n",
       "      <td>garden_tools</td>\n",
       "      <td>3.75</td>\n",
       "      <td>credit_card</td>\n",
       "      <td>218.0</td>\n",
       "    </tr>\n",
       "  </tbody>\n",
       "</table>\n",
       "</div>"
      ],
      "text/plain": [
       "     order_id  product_id   seller_id  price  product_photos_count  \\\n",
       "0  00010242fe  4244733e06  48436dade1     58                   4.0   \n",
       "1  00018f77f2  e5f2d52b80  dd7ddc04e1    239                   2.0   \n",
       "2  000229ec39  c777355d18  5b51032edd    199                   2.0   \n",
       "3  00024acbcd  7634da152a  9d7a1d34a5     12                   1.0   \n",
       "4  00042b26cf  ac6c362306  df560393f3    199                   1.0   \n",
       "\n",
       "   product_length_cm  product_height_cm  product_width_cm  \\\n",
       "0               28.0                9.0              14.0   \n",
       "1               50.0               30.0              40.0   \n",
       "2               33.0               13.0              33.0   \n",
       "3               16.0               10.0              15.0   \n",
       "4               35.0               40.0              30.0   \n",
       "\n",
       "  product_category_name  product_weight_kg payment_type  payment_value  \n",
       "0            cool_stuff               0.65  credit_card           72.0  \n",
       "1              pet_shop              30.00  credit_card          259.0  \n",
       "2       furniture_decor               3.05  credit_card          216.0  \n",
       "3             perfumery               0.20  credit_card           25.0  \n",
       "4          garden_tools               3.75  credit_card          218.0  "
      ]
     },
     "execution_count": 15,
     "metadata": {},
     "output_type": "execute_result"
    }
   ],
   "source": [
    "df_35 = pd.merge(df_order_items,df_products,on='product_id' ,how='left')\n",
    "df_354=pd.merge(df_35,df_payments,on='order_id',how='left')\n",
    "df_354.head()"
   ]
  },
  {
   "cell_type": "code",
   "execution_count": 8,
   "metadata": {},
   "outputs": [
    {
     "data": {
      "text/plain": [
       "(117604, 12)"
      ]
     },
     "execution_count": 8,
     "metadata": {},
     "output_type": "execute_result"
    }
   ],
   "source": [
    "df_354.shape"
   ]
  },
  {
   "cell_type": "code",
   "execution_count": 37,
   "metadata": {},
   "outputs": [
    {
     "data": {
      "text/plain": [
       "order_id                    0\n",
       "product_id                  0\n",
       "seller_id                   0\n",
       "price                       0\n",
       "product_photos_count     1698\n",
       "product_length_cm          20\n",
       "product_height_cm          20\n",
       "product_width_cm           20\n",
       "product_category_name       0\n",
       "product_weight_kg          20\n",
       "payment_type                3\n",
       "payment_value               3\n",
       "dtype: int64"
      ]
     },
     "execution_count": 37,
     "metadata": {},
     "output_type": "execute_result"
    }
   ],
   "source": [
    "df_354.isnull().sum()    "
   ]
  },
  {
   "cell_type": "code",
   "execution_count": 50,
   "metadata": {},
   "outputs": [
    {
     "data": {
      "text/plain": [
       "array(['cool_stuff', 'pet_shop', 'furniture_decor', 'perfumery',\n",
       "       'garden_tools', 'housewares', 'telephony', 'health_beauty',\n",
       "       'books_technical', 'fashion_bags_accessories', 'bed_bath_table',\n",
       "       'sports_leisure', 'consoles_games', 'office_furniture',\n",
       "       'luggage_accessories', 'food', 'agro_industry_and_commerce',\n",
       "       'electronics', 'computers_accessories',\n",
       "       'construction_tools_construction', 'audio', 'baby',\n",
       "       'construction_tools_lights', 'toys', 'stationery',\n",
       "       'industry_commerce_and_business', 'watches_gifts', 'auto', 'other',\n",
       "       'home_appliances', 'kitchen_dining_laundry_garden_furniture',\n",
       "       'air_conditioning', 'home_confort', 'fixed_telephony',\n",
       "       'small_appliances_home_oven_and_coffee', 'diapers_and_hygiene',\n",
       "       'signaling_and_security', 'musical_instruments',\n",
       "       'small_appliances', 'costruction_tools_garden', 'art',\n",
       "       'home_construction', 'books_general_interest', 'party_supplies',\n",
       "       'construction_tools_safety', 'cine_photo',\n",
       "       'fashion_underwear_beach', 'fashion_male_clothing', 'food_drink',\n",
       "       'drinks', 'furniture_living_room', 'market_place', 'music',\n",
       "       'fashion_shoes', 'flowers', 'home_appliances_2',\n",
       "       'fashio_female_clothing', 'computers', 'books_imported',\n",
       "       'christmas_supplies', 'furniture_bedroom', 'home_comfort_2',\n",
       "       'dvds_blu_ray', 'cds_dvds_musicals', 'arts_and_craftmanship',\n",
       "       'furniture_mattress_and_upholstery', 'tablets_printing_image',\n",
       "       'costruction_tools_tools', 'fashion_sport', 'la_cuisine',\n",
       "       'security_and_services', 'fashion_childrens_clothes'], dtype=object)"
      ]
     },
     "execution_count": 50,
     "metadata": {},
     "output_type": "execute_result"
    }
   ],
   "source": [
    "df_354['product_category_name'].unique()"
   ]
  },
  {
   "cell_type": "code",
   "execution_count": 58,
   "metadata": {},
   "outputs": [
    {
     "data": {
      "text/plain": [
       "bed_bath_table               11823\n",
       "health_beauty                 9975\n",
       "sports_leisure                8945\n",
       "furniture_decor               8744\n",
       "computers_accessories         8082\n",
       "                             ...  \n",
       "arts_and_craftmanship           24\n",
       "la_cuisine                      16\n",
       "cds_dvds_musicals               14\n",
       "fashion_childrens_clothes        8\n",
       "security_and_services            2\n",
       "Name: product_category_name, Length: 72, dtype: int64"
      ]
     },
     "execution_count": 58,
     "metadata": {},
     "output_type": "execute_result"
    }
   ],
   "source": [
    "B=pd.value_counts(df_354['product_category_name'])#There are  total 72 product categories sold by the company#\n",
    "B"
   ]
  },
  {
   "cell_type": "code",
   "execution_count": 93,
   "metadata": {},
   "outputs": [
    {
     "data": {
      "image/png": "[encoded data removed]",
      "text/plain": [
       "<Figure size 1152x432 with 1 Axes>"
      ]
     },
     "metadata": {
      "needs_background": "light"
     },
     "output_type": "display_data"
    }
   ],
   "source": [
    "F=pd.value_counts(df_354['product_category_name']).sort_values(ascending=False)[:15] # Graph shows Quantities of categories sold#\n",
    "ax=F.plot(kind='barh',figsize=(16,6))\n",
    "ax.set_xlabel('Count of categories')\n",
    "ax.set_ylabel('Categories')\n",
    "ax.set_title('Quantities of categories sold -Top 15')\n",
    "plt.show()"
   ]
  },
  {
   "cell_type": "code",
   "execution_count": 108,
   "metadata": {},
   "outputs": [
    {
     "data": {
      "image/png": "[encoded data removed]",
      "text/plain": [
       "<Figure size 1080x432 with 1 Axes>"
      ]
     },
     "metadata": {
      "needs_background": "light"
     },
     "output_type": "display_data"
    }
   ],
   "source": [
    "M=df_354.groupby('product_category_name')['payment_value'].sum().sort_values(ascending=False)[:15]\n",
    "fc=M.plot(kind='bar',figsize=(15,6))  \n",
    "fc.set_ylabel('sum of categories sold')   # Graph shows total sum of sales of each category #\n",
    "fc.set_xlabel('Categories')\n",
    "fc.set_title('total sum of sales of categories sold -Top 15')\n",
    "plt.show()"
   ]
  },
  {
   "cell_type": "markdown",
   "metadata": {},
   "source": [
    "1.The Quantities of 'bed_bath_table' sold is higher and also its sales is higher as compared to other categories.\n",
    "2.bed_bath_table,health_beauty,computer_accessories ,watch_gifts,furniture_decor are have highest sum of sales."
   ]
  },
  {
   "cell_type": "markdown",
   "metadata": {},
   "source": [
    "# Question 7"
   ]
  },
  {
   "cell_type": "markdown",
   "metadata": {},
   "source": [
    "/ Compare the orders vs no of delivery days.(if delivery time is greater than 10 days label that order as good order else bad order)/"
   ]
  },
  {
   "cell_type": "code",
   "execution_count": 90,
   "metadata": {},
   "outputs": [
    {
     "data": {
      "text/html": [
       "<div>\n",
       "<style scoped>\n",
       "    .dataframe tbody tr th:only-of-type {\n",
       "        vertical-align: middle;\n",
       "    }\n",
       "\n",
       "    .dataframe tbody tr th {\n",
       "        vertical-align: top;\n",
       "    }\n",
       "\n",
       "    .dataframe thead th {\n",
       "        text-align: right;\n",
       "    }\n",
       "</style>\n",
       "<table border=\"1\" class=\"dataframe\">\n",
       "  <thead>\n",
       "    <tr style=\"text-align: right;\">\n",
       "      <th></th>\n",
       "      <th>seller_id</th>\n",
       "      <th>seller_state</th>\n",
       "    </tr>\n",
       "  </thead>\n",
       "  <tbody>\n",
       "    <tr>\n",
       "      <th>0</th>\n",
       "      <td>3442f8959a</td>\n",
       "      <td>SP</td>\n",
       "    </tr>\n",
       "    <tr>\n",
       "      <th>1</th>\n",
       "      <td>d1b65fc7de</td>\n",
       "      <td>SP</td>\n",
       "    </tr>\n",
       "  </tbody>\n",
       "</table>\n",
       "</div>"
      ],
      "text/plain": [
       "    seller_id seller_state\n",
       "0  3442f8959a           SP\n",
       "1  d1b65fc7de           SP"
      ]
     },
     "execution_count": 90,
     "metadata": {},
     "output_type": "execute_result"
    }
   ],
   "source": [
    "df_sellers.head(2)"
   ]
  },
  {
   "cell_type": "code",
   "execution_count": 91,
   "metadata": {},
   "outputs": [
    {
     "data": {
      "text/plain": [
       "seller_state\n",
       "SP    1849\n",
       "PR     349\n",
       "MG     244\n",
       "SC     190\n",
       "RJ     171\n",
       "RS     129\n",
       "GO      40\n",
       "DF      30\n",
       "ES      23\n",
       "BA      19\n",
       "Name: seller_id, dtype: int64"
      ]
     },
     "execution_count": 91,
     "metadata": {},
     "output_type": "execute_result"
    }
   ],
   "source": [
    "df_sellers.groupby('seller_state')['seller_id'].count().sort_values(ascending=False)[:10]"
   ]
  },
  {
   "cell_type": "markdown",
   "metadata": {},
   "source": [
    "The above data shows the no of sellers in each state.Sp is the state with highest no of sellers."
   ]
  },
  {
   "cell_type": "markdown",
   "metadata": {},
   "source": [
    "# Merging orders,order_items,seller dataframes"
   ]
  },
  {
   "cell_type": "code",
   "execution_count": 16,
   "metadata": {},
   "outputs": [
    {
     "data": {
      "text/html": [
       "<div>\n",
       "<style scoped>\n",
       "    .dataframe tbody tr th:only-of-type {\n",
       "        vertical-align: middle;\n",
       "    }\n",
       "\n",
       "    .dataframe tbody tr th {\n",
       "        vertical-align: top;\n",
       "    }\n",
       "\n",
       "    .dataframe thead th {\n",
       "        text-align: right;\n",
       "    }\n",
       "</style>\n",
       "<table border=\"1\" class=\"dataframe\">\n",
       "  <thead>\n",
       "    <tr style=\"text-align: right;\">\n",
       "      <th></th>\n",
       "      <th>customer_id</th>\n",
       "      <th>customer_unique_id</th>\n",
       "      <th>customer_state</th>\n",
       "      <th>order_id</th>\n",
       "      <th>order_status</th>\n",
       "      <th>order_purchase_timestamp</th>\n",
       "      <th>order_approved_at</th>\n",
       "      <th>order_delivered_to_carrier_date</th>\n",
       "      <th>order_delivered_to_customer_date</th>\n",
       "      <th>order_estimated_delivery_date</th>\n",
       "      <th>order_delivery days</th>\n",
       "      <th>order delivery days(new)</th>\n",
       "      <th>product_id</th>\n",
       "      <th>seller_id</th>\n",
       "      <th>price</th>\n",
       "      <th>seller_state</th>\n",
       "    </tr>\n",
       "  </thead>\n",
       "  <tbody>\n",
       "    <tr>\n",
       "      <th>0</th>\n",
       "      <td>06b8999e2f</td>\n",
       "      <td>861eff4711</td>\n",
       "      <td>SP</td>\n",
       "      <td>00e7ee1b05</td>\n",
       "      <td>delivered</td>\n",
       "      <td>16-05-17 15:05</td>\n",
       "      <td>16-05-17 15:22</td>\n",
       "      <td>23-05-17 10:47</td>\n",
       "      <td>25-05-17 10:35</td>\n",
       "      <td>05-06-17 0:00</td>\n",
       "      <td>9</td>\n",
       "      <td>9</td>\n",
       "      <td>a9516a079e</td>\n",
       "      <td>7c67e1448b</td>\n",
       "      <td>124</td>\n",
       "      <td>SP</td>\n",
       "    </tr>\n",
       "    <tr>\n",
       "      <th>1</th>\n",
       "      <td>4e7b3e0028</td>\n",
       "      <td>060e732b5b</td>\n",
       "      <td>SP</td>\n",
       "      <td>b2059ed67c</td>\n",
       "      <td>delivered</td>\n",
       "      <td>19-05-18 16:07</td>\n",
       "      <td>20-05-18 16:19</td>\n",
       "      <td>11-06-18 14:31</td>\n",
       "      <td>14-06-18 17:58</td>\n",
       "      <td>13-06-18 0:00</td>\n",
       "      <td>25</td>\n",
       "      <td>25</td>\n",
       "      <td>bd07b66896</td>\n",
       "      <td>7c67e1448b</td>\n",
       "      <td>139</td>\n",
       "      <td>SP</td>\n",
       "    </tr>\n",
       "    <tr>\n",
       "      <th>2</th>\n",
       "      <td>b2b6027bc5</td>\n",
       "      <td>259dac7578</td>\n",
       "      <td>SP</td>\n",
       "      <td>951670f923</td>\n",
       "      <td>delivered</td>\n",
       "      <td>13-03-18 16:06</td>\n",
       "      <td>13-03-18 17:29</td>\n",
       "      <td>27-03-18 23:22</td>\n",
       "      <td>28-03-18 16:04</td>\n",
       "      <td>10-04-18 0:00</td>\n",
       "      <td>15</td>\n",
       "      <td>15</td>\n",
       "      <td>a5647c44af</td>\n",
       "      <td>7c67e1448b</td>\n",
       "      <td>149</td>\n",
       "      <td>SP</td>\n",
       "    </tr>\n",
       "    <tr>\n",
       "      <th>3</th>\n",
       "      <td>4c06b42fbf</td>\n",
       "      <td>07d190f123</td>\n",
       "      <td>MA</td>\n",
       "      <td>997fd4b373</td>\n",
       "      <td>delivered</td>\n",
       "      <td>08-07-18 9:59</td>\n",
       "      <td>08-07-18 10:30</td>\n",
       "      <td>25-07-18 15:12</td>\n",
       "      <td>08-08-18 19:42</td>\n",
       "      <td>16-08-18 0:00</td>\n",
       "      <td>31</td>\n",
       "      <td>31</td>\n",
       "      <td>8ed094bfe0</td>\n",
       "      <td>7c67e1448b</td>\n",
       "      <td>199</td>\n",
       "      <td>SP</td>\n",
       "    </tr>\n",
       "    <tr>\n",
       "      <th>4</th>\n",
       "      <td>8276de07ef</td>\n",
       "      <td>332cf4e83e</td>\n",
       "      <td>RS</td>\n",
       "      <td>b63fff1ef8</td>\n",
       "      <td>delivered</td>\n",
       "      <td>02-04-17 22:15</td>\n",
       "      <td>04-04-17 5:55</td>\n",
       "      <td>13-04-17 16:28</td>\n",
       "      <td>02-05-17 13:53</td>\n",
       "      <td>08-05-17 0:00</td>\n",
       "      <td>28</td>\n",
       "      <td>28</td>\n",
       "      <td>aba86c093c</td>\n",
       "      <td>7c67e1448b</td>\n",
       "      <td>129</td>\n",
       "      <td>SP</td>\n",
       "    </tr>\n",
       "  </tbody>\n",
       "</table>\n",
       "</div>"
      ],
      "text/plain": [
       "  customer_id customer_unique_id customer_state    order_id order_status  \\\n",
       "0  06b8999e2f         861eff4711             SP  00e7ee1b05    delivered   \n",
       "1  4e7b3e0028         060e732b5b             SP  b2059ed67c    delivered   \n",
       "2  b2b6027bc5         259dac7578             SP  951670f923    delivered   \n",
       "3  4c06b42fbf         07d190f123             MA  997fd4b373    delivered   \n",
       "4  8276de07ef         332cf4e83e             RS  b63fff1ef8    delivered   \n",
       "\n",
       "  order_purchase_timestamp order_approved_at order_delivered_to_carrier_date  \\\n",
       "0           16-05-17 15:05    16-05-17 15:22                  23-05-17 10:47   \n",
       "1           19-05-18 16:07    20-05-18 16:19                  11-06-18 14:31   \n",
       "2           13-03-18 16:06    13-03-18 17:29                  27-03-18 23:22   \n",
       "3            08-07-18 9:59    08-07-18 10:30                  25-07-18 15:12   \n",
       "4           02-04-17 22:15     04-04-17 5:55                  13-04-17 16:28   \n",
       "\n",
       "  order_delivered_to_customer_date order_estimated_delivery_date  \\\n",
       "0                   25-05-17 10:35                 05-06-17 0:00   \n",
       "1                   14-06-18 17:58                 13-06-18 0:00   \n",
       "2                   28-03-18 16:04                 10-04-18 0:00   \n",
       "3                   08-08-18 19:42                 16-08-18 0:00   \n",
       "4                   02-05-17 13:53                 08-05-17 0:00   \n",
       "\n",
       "   order_delivery days  order delivery days(new)  product_id   seller_id  \\\n",
       "0                    9                         9  a9516a079e  7c67e1448b   \n",
       "1                   25                        25  bd07b66896  7c67e1448b   \n",
       "2                   15                        15  a5647c44af  7c67e1448b   \n",
       "3                   31                        31  8ed094bfe0  7c67e1448b   \n",
       "4                   28                        28  aba86c093c  7c67e1448b   \n",
       "\n",
       "   price seller_state  \n",
       "0    124           SP  \n",
       "1    139           SP  \n",
       "2    149           SP  \n",
       "3    199           SP  \n",
       "4    129           SP  "
      ]
     },
     "execution_count": 16,
     "metadata": {},
     "output_type": "execute_result"
    }
   ],
   "source": [
    "df_23=pd.merge(newdf12,df_order_items,on='order_id',how='inner')\n",
    "df_236=pd.merge(df_23,df_sellers,on='seller_id',how='inner')\n",
    "df_236.head()"
   ]
  },
  {
   "cell_type": "code",
   "execution_count": 17,
   "metadata": {},
   "outputs": [
    {
     "data": {
      "text/html": [
       "<div>\n",
       "<style scoped>\n",
       "    .dataframe tbody tr th:only-of-type {\n",
       "        vertical-align: middle;\n",
       "    }\n",
       "\n",
       "    .dataframe tbody tr th {\n",
       "        vertical-align: top;\n",
       "    }\n",
       "\n",
       "    .dataframe thead th {\n",
       "        text-align: right;\n",
       "    }\n",
       "</style>\n",
       "<table border=\"1\" class=\"dataframe\">\n",
       "  <thead>\n",
       "    <tr style=\"text-align: right;\">\n",
       "      <th></th>\n",
       "      <th>customer_id</th>\n",
       "      <th>customer_unique_id</th>\n",
       "      <th>customer_state</th>\n",
       "      <th>order_id</th>\n",
       "      <th>order_status</th>\n",
       "      <th>order_purchase_timestamp</th>\n",
       "      <th>order_approved_at</th>\n",
       "      <th>order_delivered_to_carrier_date</th>\n",
       "      <th>order_delivered_to_customer_date</th>\n",
       "      <th>order_estimated_delivery_date</th>\n",
       "      <th>order_delivery days</th>\n",
       "      <th>order delivery days(new)</th>\n",
       "      <th>product_id</th>\n",
       "      <th>seller_id</th>\n",
       "      <th>price</th>\n",
       "      <th>seller_state</th>\n",
       "    </tr>\n",
       "  </thead>\n",
       "  <tbody>\n",
       "    <tr>\n",
       "      <th>39927</th>\n",
       "      <td>75683a9233</td>\n",
       "      <td>4a2519b699</td>\n",
       "      <td>ES</td>\n",
       "      <td>ca07593549</td>\n",
       "      <td>delivered</td>\n",
       "      <td>21-02-17 23:31</td>\n",
       "      <td>23-02-17 2:35</td>\n",
       "      <td>08-03-17 13:47</td>\n",
       "      <td>19-09-17 14:36</td>\n",
       "      <td>22-03-17 0:00</td>\n",
       "      <td>208</td>\n",
       "      <td>208</td>\n",
       "      <td>8eed5d27f5</td>\n",
       "      <td>2a1348e9ad</td>\n",
       "      <td>229</td>\n",
       "      <td>MG</td>\n",
       "    </tr>\n",
       "    <tr>\n",
       "      <th>29985</th>\n",
       "      <td>d306426abe</td>\n",
       "      <td>eb21169c31</td>\n",
       "      <td>RJ</td>\n",
       "      <td>1b3190b2df</td>\n",
       "      <td>delivered</td>\n",
       "      <td>23-02-18 14:57</td>\n",
       "      <td>23-02-18 15:16</td>\n",
       "      <td>26-02-18 18:49</td>\n",
       "      <td>19-09-18 23:24</td>\n",
       "      <td>15-03-18 0:00</td>\n",
       "      <td>208</td>\n",
       "      <td>208</td>\n",
       "      <td>ee406bf280</td>\n",
       "      <td>7a67c85e85</td>\n",
       "      <td>144</td>\n",
       "      <td>SP</td>\n",
       "    </tr>\n",
       "  </tbody>\n",
       "</table>\n",
       "</div>"
      ],
      "text/plain": [
       "      customer_id customer_unique_id customer_state    order_id order_status  \\\n",
       "39927  75683a9233         4a2519b699             ES  ca07593549    delivered   \n",
       "29985  d306426abe         eb21169c31             RJ  1b3190b2df    delivered   \n",
       "\n",
       "      order_purchase_timestamp order_approved_at  \\\n",
       "39927           21-02-17 23:31     23-02-17 2:35   \n",
       "29985           23-02-18 14:57    23-02-18 15:16   \n",
       "\n",
       "      order_delivered_to_carrier_date order_delivered_to_customer_date  \\\n",
       "39927                  08-03-17 13:47                   19-09-17 14:36   \n",
       "29985                  26-02-18 18:49                   19-09-18 23:24   \n",
       "\n",
       "      order_estimated_delivery_date  order_delivery days  \\\n",
       "39927                 22-03-17 0:00                  208   \n",
       "29985                 15-03-18 0:00                  208   \n",
       "\n",
       "       order delivery days(new)  product_id   seller_id  price seller_state  \n",
       "39927                       208  8eed5d27f5  2a1348e9ad    229           MG  \n",
       "29985                       208  ee406bf280  7a67c85e85    144           SP  "
      ]
     },
     "execution_count": 17,
     "metadata": {},
     "output_type": "execute_result"
    }
   ],
   "source": [
    "df_236.sort_values(by='order delivery days(new)',ascending=False,inplace=True)\n",
    "df_236.head(2)"
   ]
  },
  {
   "cell_type": "code",
   "execution_count": 18,
   "metadata": {},
   "outputs": [],
   "source": [
    "def order_type (order_deliverydays):     # creating a function order_type#\n",
    "    if order_deliverydays>10:               #if order delivery days >10 then'bad order'\n",
    "        order_deliverydays=\"bad order\"       #or else 'good order'\n",
    "    else:\n",
    "        order_deliverydays=\"Good order\"\n",
    "    return  order_deliverydays"
   ]
  },
  {
   "cell_type": "code",
   "execution_count": 19,
   "metadata": {},
   "outputs": [
    {
     "data": {
      "text/plain": [
       "'Good order'"
      ]
     },
     "execution_count": 19,
     "metadata": {},
     "output_type": "execute_result"
    }
   ],
   "source": [
    "order_type(9)\n"
   ]
  },
  {
   "cell_type": "code",
   "execution_count": 39,
   "metadata": {},
   "outputs": [
    {
     "data": {
      "text/html": [
       "<div>\n",
       "<style scoped>\n",
       "    .dataframe tbody tr th:only-of-type {\n",
       "        vertical-align: middle;\n",
       "    }\n",
       "\n",
       "    .dataframe tbody tr th {\n",
       "        vertical-align: top;\n",
       "    }\n",
       "\n",
       "    .dataframe thead th {\n",
       "        text-align: right;\n",
       "    }\n",
       "</style>\n",
       "<table border=\"1\" class=\"dataframe\">\n",
       "  <thead>\n",
       "    <tr style=\"text-align: right;\">\n",
       "      <th></th>\n",
       "      <th>customer_id</th>\n",
       "      <th>customer_unique_id</th>\n",
       "      <th>customer_state</th>\n",
       "      <th>order_id</th>\n",
       "      <th>order_status</th>\n",
       "      <th>order_purchase_timestamp</th>\n",
       "      <th>order_approved_at</th>\n",
       "      <th>order_delivered_to_carrier_date</th>\n",
       "      <th>order_delivered_to_customer_date</th>\n",
       "      <th>order_estimated_delivery_date</th>\n",
       "      <th>order_delivery days</th>\n",
       "      <th>order delivery days(new)</th>\n",
       "      <th>product_id</th>\n",
       "      <th>seller_id</th>\n",
       "      <th>price</th>\n",
       "      <th>seller_state</th>\n",
       "      <th>order_type</th>\n",
       "    </tr>\n",
       "  </thead>\n",
       "  <tbody>\n",
       "    <tr>\n",
       "      <th>39927</th>\n",
       "      <td>75683a9233</td>\n",
       "      <td>4a2519b699</td>\n",
       "      <td>ES</td>\n",
       "      <td>ca07593549</td>\n",
       "      <td>delivered</td>\n",
       "      <td>21-02-17 23:31</td>\n",
       "      <td>23-02-17 2:35</td>\n",
       "      <td>08-03-17 13:47</td>\n",
       "      <td>19-09-17 14:36</td>\n",
       "      <td>22-03-17 0:00</td>\n",
       "      <td>208</td>\n",
       "      <td>208</td>\n",
       "      <td>8eed5d27f5</td>\n",
       "      <td>2a1348e9ad</td>\n",
       "      <td>229</td>\n",
       "      <td>MG</td>\n",
       "      <td>bad order</td>\n",
       "    </tr>\n",
       "    <tr>\n",
       "      <th>29985</th>\n",
       "      <td>d306426abe</td>\n",
       "      <td>eb21169c31</td>\n",
       "      <td>RJ</td>\n",
       "      <td>1b3190b2df</td>\n",
       "      <td>delivered</td>\n",
       "      <td>23-02-18 14:57</td>\n",
       "      <td>23-02-18 15:16</td>\n",
       "      <td>26-02-18 18:49</td>\n",
       "      <td>19-09-18 23:24</td>\n",
       "      <td>15-03-18 0:00</td>\n",
       "      <td>208</td>\n",
       "      <td>208</td>\n",
       "      <td>ee406bf280</td>\n",
       "      <td>7a67c85e85</td>\n",
       "      <td>144</td>\n",
       "      <td>SP</td>\n",
       "      <td>bad order</td>\n",
       "    </tr>\n",
       "    <tr>\n",
       "      <th>74151</th>\n",
       "      <td>9cf2c3fa26</td>\n",
       "      <td>3c2564d42f</td>\n",
       "      <td>SE</td>\n",
       "      <td>285ab9426d</td>\n",
       "      <td>delivered</td>\n",
       "      <td>08-03-17 22:47</td>\n",
       "      <td>08-03-17 22:47</td>\n",
       "      <td>09-03-17 8:53</td>\n",
       "      <td>19-09-17 14:00</td>\n",
       "      <td>06-04-17 0:00</td>\n",
       "      <td>195</td>\n",
       "      <td>195</td>\n",
       "      <td>0c6fc9b931</td>\n",
       "      <td>c847e07530</td>\n",
       "      <td>429</td>\n",
       "      <td>MG</td>\n",
       "      <td>bad order</td>\n",
       "    </tr>\n",
       "    <tr>\n",
       "      <th>53775</th>\n",
       "      <td>217906bc11</td>\n",
       "      <td>c6c0b794d3</td>\n",
       "      <td>PI</td>\n",
       "      <td>2fb597c2f7</td>\n",
       "      <td>delivered</td>\n",
       "      <td>08-03-17 18:09</td>\n",
       "      <td>08-03-17 18:09</td>\n",
       "      <td>13-03-17 8:54</td>\n",
       "      <td>19-09-17 14:33</td>\n",
       "      <td>17-04-17 0:00</td>\n",
       "      <td>195</td>\n",
       "      <td>195</td>\n",
       "      <td>8ed094bfe0</td>\n",
       "      <td>a7f13822ce</td>\n",
       "      <td>239</td>\n",
       "      <td>SP</td>\n",
       "      <td>bad order</td>\n",
       "    </tr>\n",
       "    <tr>\n",
       "      <th>21084</th>\n",
       "      <td>1a8a4a30dc</td>\n",
       "      <td>4df2d7257a</td>\n",
       "      <td>PI</td>\n",
       "      <td>0f4519c5f1</td>\n",
       "      <td>delivered</td>\n",
       "      <td>09-03-17 13:26</td>\n",
       "      <td>09-03-17 13:26</td>\n",
       "      <td>22-03-17 5:28</td>\n",
       "      <td>19-09-17 14:38</td>\n",
       "      <td>11-04-17 0:00</td>\n",
       "      <td>194</td>\n",
       "      <td>194</td>\n",
       "      <td>e0d64dcfaa</td>\n",
       "      <td>7e93a43ef3</td>\n",
       "      <td>231</td>\n",
       "      <td>SP</td>\n",
       "      <td>bad order</td>\n",
       "    </tr>\n",
       "    <tr>\n",
       "      <th>39914</th>\n",
       "      <td>7815125148</td>\n",
       "      <td>f0785d41d4</td>\n",
       "      <td>PA</td>\n",
       "      <td>440d0d17af</td>\n",
       "      <td>delivered</td>\n",
       "      <td>07-03-17 23:59</td>\n",
       "      <td>09-03-17 1:11</td>\n",
       "      <td>15-03-17 13:00</td>\n",
       "      <td>19-09-17 15:12</td>\n",
       "      <td>07-04-17 0:00</td>\n",
       "      <td>194</td>\n",
       "      <td>194</td>\n",
       "      <td>3bec03860f</td>\n",
       "      <td>2a1348e9ad</td>\n",
       "      <td>159</td>\n",
       "      <td>MG</td>\n",
       "      <td>bad order</td>\n",
       "    </tr>\n",
       "    <tr>\n",
       "      <th>76190</th>\n",
       "      <td>cb2caaaead</td>\n",
       "      <td>4cb8ad9a45</td>\n",
       "      <td>SP</td>\n",
       "      <td>47b40429ed</td>\n",
       "      <td>delivered</td>\n",
       "      <td>03-01-18 9:44</td>\n",
       "      <td>03-01-18 10:31</td>\n",
       "      <td>06-02-18 1:48</td>\n",
       "      <td>13-07-18 20:51</td>\n",
       "      <td>19-01-18 0:00</td>\n",
       "      <td>191</td>\n",
       "      <td>191</td>\n",
       "      <td>ebf1c13032</td>\n",
       "      <td>cb41bfbcbd</td>\n",
       "      <td>399</td>\n",
       "      <td>SP</td>\n",
       "      <td>bad order</td>\n",
       "    </tr>\n",
       "    <tr>\n",
       "      <th>108892</th>\n",
       "      <td>65b1423788</td>\n",
       "      <td>78d26ae26b</td>\n",
       "      <td>SP</td>\n",
       "      <td>2fe324febf</td>\n",
       "      <td>delivered</td>\n",
       "      <td>13-03-17 20:17</td>\n",
       "      <td>13-03-17 20:17</td>\n",
       "      <td>17-03-17 7:23</td>\n",
       "      <td>19-09-17 17:00</td>\n",
       "      <td>05-04-17 0:00</td>\n",
       "      <td>190</td>\n",
       "      <td>190</td>\n",
       "      <td>b75683e296</td>\n",
       "      <td>df683dfda8</td>\n",
       "      <td>39</td>\n",
       "      <td>RS</td>\n",
       "      <td>bad order</td>\n",
       "    </tr>\n",
       "  </tbody>\n",
       "</table>\n",
       "</div>"
      ],
      "text/plain": [
       "       customer_id customer_unique_id customer_state    order_id order_status  \\\n",
       "39927   75683a9233         4a2519b699             ES  ca07593549    delivered   \n",
       "29985   d306426abe         eb21169c31             RJ  1b3190b2df    delivered   \n",
       "74151   9cf2c3fa26         3c2564d42f             SE  285ab9426d    delivered   \n",
       "53775   217906bc11         c6c0b794d3             PI  2fb597c2f7    delivered   \n",
       "21084   1a8a4a30dc         4df2d7257a             PI  0f4519c5f1    delivered   \n",
       "39914   7815125148         f0785d41d4             PA  440d0d17af    delivered   \n",
       "76190   cb2caaaead         4cb8ad9a45             SP  47b40429ed    delivered   \n",
       "108892  65b1423788         78d26ae26b             SP  2fe324febf    delivered   \n",
       "\n",
       "       order_purchase_timestamp order_approved_at  \\\n",
       "39927            21-02-17 23:31     23-02-17 2:35   \n",
       "29985            23-02-18 14:57    23-02-18 15:16   \n",
       "74151            08-03-17 22:47    08-03-17 22:47   \n",
       "53775            08-03-17 18:09    08-03-17 18:09   \n",
       "21084            09-03-17 13:26    09-03-17 13:26   \n",
       "39914            07-03-17 23:59     09-03-17 1:11   \n",
       "76190             03-01-18 9:44    03-01-18 10:31   \n",
       "108892           13-03-17 20:17    13-03-17 20:17   \n",
       "\n",
       "       order_delivered_to_carrier_date order_delivered_to_customer_date  \\\n",
       "39927                   08-03-17 13:47                   19-09-17 14:36   \n",
       "29985                   26-02-18 18:49                   19-09-18 23:24   \n",
       "74151                    09-03-17 8:53                   19-09-17 14:00   \n",
       "53775                    13-03-17 8:54                   19-09-17 14:33   \n",
       "21084                    22-03-17 5:28                   19-09-17 14:38   \n",
       "39914                   15-03-17 13:00                   19-09-17 15:12   \n",
       "76190                    06-02-18 1:48                   13-07-18 20:51   \n",
       "108892                   17-03-17 7:23                   19-09-17 17:00   \n",
       "\n",
       "       order_estimated_delivery_date  order_delivery days  \\\n",
       "39927                  22-03-17 0:00                  208   \n",
       "29985                  15-03-18 0:00                  208   \n",
       "74151                  06-04-17 0:00                  195   \n",
       "53775                  17-04-17 0:00                  195   \n",
       "21084                  11-04-17 0:00                  194   \n",
       "39914                  07-04-17 0:00                  194   \n",
       "76190                  19-01-18 0:00                  191   \n",
       "108892                 05-04-17 0:00                  190   \n",
       "\n",
       "        order delivery days(new)  product_id   seller_id  price seller_state  \\\n",
       "39927                        208  8eed5d27f5  2a1348e9ad    229           MG   \n",
       "29985                        208  ee406bf280  7a67c85e85    144           SP   \n",
       "74151                        195  0c6fc9b931  c847e07530    429           MG   \n",
       "53775                        195  8ed094bfe0  a7f13822ce    239           SP   \n",
       "21084                        194  e0d64dcfaa  7e93a43ef3    231           SP   \n",
       "39914                        194  3bec03860f  2a1348e9ad    159           MG   \n",
       "76190                        191  ebf1c13032  cb41bfbcbd    399           SP   \n",
       "108892                       190  b75683e296  df683dfda8     39           RS   \n",
       "\n",
       "       order_type  \n",
       "39927   bad order  \n",
       "29985   bad order  \n",
       "74151   bad order  \n",
       "53775   bad order  \n",
       "21084   bad order  \n",
       "39914   bad order  \n",
       "76190   bad order  \n",
       "108892  bad order  "
      ]
     },
     "execution_count": 39,
     "metadata": {},
     "output_type": "execute_result"
    }
   ],
   "source": [
    "df_236['order_type']=df_236['order_delivery days'].apply(order_type)\n",
    "df_236.head(8)"
   ]
  },
  {
   "cell_type": "code",
   "execution_count": 21,
   "metadata": {},
   "outputs": [
    {
     "data": {
      "image/png": "[encoded data removed]",
      "text/plain": [
       "<Figure size 432x288 with 1 Axes>"
      ]
     },
     "metadata": {
      "needs_background": "light"
     },
     "output_type": "display_data"
    }
   ],
   "source": [
    "sns.countplot(x='order_type',data=df_236)       #percentage of good orders are more than bad orders#\n",
    "plt.show()"
   ]
  },
  {
   "cell_type": "code",
   "execution_count": 22,
   "metadata": {},
   "outputs": [
    {
     "data": {
      "text/plain": [
       "Good order    55.0\n",
       "bad order     45.0\n",
       "Name: order_type, dtype: float64"
      ]
     },
     "execution_count": 22,
     "metadata": {},
     "output_type": "execute_result"
    }
   ],
   "source": [
    "B=round(pd.value_counts(df_236['order_type'],normalize= True)*100)\n",
    "B"
   ]
  },
  {
   "cell_type": "markdown",
   "metadata": {},
   "source": [
    "# Merging orders,order_items,products,seller dataframes"
   ]
  },
  {
   "cell_type": "markdown",
   "metadata": {},
   "source": [
    "From the above analysis we can see that percentages of 'good orders'is higher,Which means delivery time of 45% orders are more than 10 days and 55% products are delivered in less than 10 days."
   ]
  },
  {
   "cell_type": "code",
   "execution_count": 23,
   "metadata": {},
   "outputs": [
    {
     "data": {
      "text/html": [
       "<div>\n",
       "<style scoped>\n",
       "    .dataframe tbody tr th:only-of-type {\n",
       "        vertical-align: middle;\n",
       "    }\n",
       "\n",
       "    .dataframe tbody tr th {\n",
       "        vertical-align: top;\n",
       "    }\n",
       "\n",
       "    .dataframe thead th {\n",
       "        text-align: right;\n",
       "    }\n",
       "</style>\n",
       "<table border=\"1\" class=\"dataframe\">\n",
       "  <thead>\n",
       "    <tr style=\"text-align: right;\">\n",
       "      <th></th>\n",
       "      <th>customer_id</th>\n",
       "      <th>customer_unique_id</th>\n",
       "      <th>customer_state</th>\n",
       "      <th>order_id</th>\n",
       "      <th>order_status</th>\n",
       "      <th>order_purchase_timestamp</th>\n",
       "      <th>order_approved_at</th>\n",
       "      <th>order_delivered_to_carrier_date</th>\n",
       "      <th>order_delivered_to_customer_date</th>\n",
       "      <th>order_estimated_delivery_date</th>\n",
       "      <th>...</th>\n",
       "      <th>seller_id</th>\n",
       "      <th>price</th>\n",
       "      <th>seller_state</th>\n",
       "      <th>order_type</th>\n",
       "      <th>product_photos_count</th>\n",
       "      <th>product_length_cm</th>\n",
       "      <th>product_height_cm</th>\n",
       "      <th>product_width_cm</th>\n",
       "      <th>product_category_name</th>\n",
       "      <th>product_weight_kg</th>\n",
       "    </tr>\n",
       "  </thead>\n",
       "  <tbody>\n",
       "    <tr>\n",
       "      <th>0</th>\n",
       "      <td>75683a9233</td>\n",
       "      <td>4a2519b699</td>\n",
       "      <td>ES</td>\n",
       "      <td>ca07593549</td>\n",
       "      <td>delivered</td>\n",
       "      <td>21-02-17 23:31</td>\n",
       "      <td>23-02-17 2:35</td>\n",
       "      <td>08-03-17 13:47</td>\n",
       "      <td>19-09-17 14:36</td>\n",
       "      <td>22-03-17 0:00</td>\n",
       "      <td>...</td>\n",
       "      <td>2a1348e9ad</td>\n",
       "      <td>229</td>\n",
       "      <td>MG</td>\n",
       "      <td>bad order</td>\n",
       "      <td>1.0</td>\n",
       "      <td>16.0</td>\n",
       "      <td>2.0</td>\n",
       "      <td>11.0</td>\n",
       "      <td>auto</td>\n",
       "      <td>2.80</td>\n",
       "    </tr>\n",
       "    <tr>\n",
       "      <th>1</th>\n",
       "      <td>ab91349e3f</td>\n",
       "      <td>eae9469721</td>\n",
       "      <td>SP</td>\n",
       "      <td>d23555007f</td>\n",
       "      <td>delivered</td>\n",
       "      <td>19-02-17 12:22</td>\n",
       "      <td>19-02-17 12:32</td>\n",
       "      <td>22-02-17 17:36</td>\n",
       "      <td>14-03-17 12:57</td>\n",
       "      <td>21-03-17 0:00</td>\n",
       "      <td>...</td>\n",
       "      <td>2a1348e9ad</td>\n",
       "      <td>229</td>\n",
       "      <td>MG</td>\n",
       "      <td>bad order</td>\n",
       "      <td>1.0</td>\n",
       "      <td>16.0</td>\n",
       "      <td>2.0</td>\n",
       "      <td>11.0</td>\n",
       "      <td>auto</td>\n",
       "      <td>2.80</td>\n",
       "    </tr>\n",
       "    <tr>\n",
       "      <th>2</th>\n",
       "      <td>86bbc4a292</td>\n",
       "      <td>e1f24958ea</td>\n",
       "      <td>RS</td>\n",
       "      <td>82bfafb84a</td>\n",
       "      <td>delivered</td>\n",
       "      <td>28-01-17 19:10</td>\n",
       "      <td>28-01-17 19:30</td>\n",
       "      <td>31-01-17 17:26</td>\n",
       "      <td>10-02-17 8:53</td>\n",
       "      <td>08-03-17 0:00</td>\n",
       "      <td>...</td>\n",
       "      <td>2a1348e9ad</td>\n",
       "      <td>229</td>\n",
       "      <td>MG</td>\n",
       "      <td>bad order</td>\n",
       "      <td>1.0</td>\n",
       "      <td>16.0</td>\n",
       "      <td>2.0</td>\n",
       "      <td>11.0</td>\n",
       "      <td>auto</td>\n",
       "      <td>2.80</td>\n",
       "    </tr>\n",
       "    <tr>\n",
       "      <th>3</th>\n",
       "      <td>d306426abe</td>\n",
       "      <td>eb21169c31</td>\n",
       "      <td>RJ</td>\n",
       "      <td>1b3190b2df</td>\n",
       "      <td>delivered</td>\n",
       "      <td>23-02-18 14:57</td>\n",
       "      <td>23-02-18 15:16</td>\n",
       "      <td>26-02-18 18:49</td>\n",
       "      <td>19-09-18 23:24</td>\n",
       "      <td>15-03-18 0:00</td>\n",
       "      <td>...</td>\n",
       "      <td>7a67c85e85</td>\n",
       "      <td>144</td>\n",
       "      <td>SP</td>\n",
       "      <td>bad order</td>\n",
       "      <td>1.0</td>\n",
       "      <td>36.0</td>\n",
       "      <td>24.0</td>\n",
       "      <td>22.0</td>\n",
       "      <td>cool_stuff</td>\n",
       "      <td>1.05</td>\n",
       "    </tr>\n",
       "    <tr>\n",
       "      <th>4</th>\n",
       "      <td>feee0385d0</td>\n",
       "      <td>b4897634cc</td>\n",
       "      <td>MT</td>\n",
       "      <td>1161d4dd2b</td>\n",
       "      <td>delivered</td>\n",
       "      <td>17-02-18 15:45</td>\n",
       "      <td>17-02-18 15:55</td>\n",
       "      <td>19-02-18 18:24</td>\n",
       "      <td>13-04-18 22:07</td>\n",
       "      <td>21-03-18 0:00</td>\n",
       "      <td>...</td>\n",
       "      <td>7a67c85e85</td>\n",
       "      <td>144</td>\n",
       "      <td>SP</td>\n",
       "      <td>bad order</td>\n",
       "      <td>1.0</td>\n",
       "      <td>36.0</td>\n",
       "      <td>24.0</td>\n",
       "      <td>22.0</td>\n",
       "      <td>cool_stuff</td>\n",
       "      <td>1.05</td>\n",
       "    </tr>\n",
       "  </tbody>\n",
       "</table>\n",
       "<p>5 rows × 23 columns</p>\n",
       "</div>"
      ],
      "text/plain": [
       "  customer_id customer_unique_id customer_state    order_id order_status  \\\n",
       "0  75683a9233         4a2519b699             ES  ca07593549    delivered   \n",
       "1  ab91349e3f         eae9469721             SP  d23555007f    delivered   \n",
       "2  86bbc4a292         e1f24958ea             RS  82bfafb84a    delivered   \n",
       "3  d306426abe         eb21169c31             RJ  1b3190b2df    delivered   \n",
       "4  feee0385d0         b4897634cc             MT  1161d4dd2b    delivered   \n",
       "\n",
       "  order_purchase_timestamp order_approved_at order_delivered_to_carrier_date  \\\n",
       "0           21-02-17 23:31     23-02-17 2:35                  08-03-17 13:47   \n",
       "1           19-02-17 12:22    19-02-17 12:32                  22-02-17 17:36   \n",
       "2           28-01-17 19:10    28-01-17 19:30                  31-01-17 17:26   \n",
       "3           23-02-18 14:57    23-02-18 15:16                  26-02-18 18:49   \n",
       "4           17-02-18 15:45    17-02-18 15:55                  19-02-18 18:24   \n",
       "\n",
       "  order_delivered_to_customer_date order_estimated_delivery_date  ...  \\\n",
       "0                   19-09-17 14:36                 22-03-17 0:00  ...   \n",
       "1                   14-03-17 12:57                 21-03-17 0:00  ...   \n",
       "2                    10-02-17 8:53                 08-03-17 0:00  ...   \n",
       "3                   19-09-18 23:24                 15-03-18 0:00  ...   \n",
       "4                   13-04-18 22:07                 21-03-18 0:00  ...   \n",
       "\n",
       "    seller_id  price seller_state order_type  product_photos_count  \\\n",
       "0  2a1348e9ad    229           MG  bad order                   1.0   \n",
       "1  2a1348e9ad    229           MG  bad order                   1.0   \n",
       "2  2a1348e9ad    229           MG  bad order                   1.0   \n",
       "3  7a67c85e85    144           SP  bad order                   1.0   \n",
       "4  7a67c85e85    144           SP  bad order                   1.0   \n",
       "\n",
       "  product_length_cm product_height_cm  product_width_cm  \\\n",
       "0              16.0               2.0              11.0   \n",
       "1              16.0               2.0              11.0   \n",
       "2              16.0               2.0              11.0   \n",
       "3              36.0              24.0              22.0   \n",
       "4              36.0              24.0              22.0   \n",
       "\n",
       "   product_category_name  product_weight_kg  \n",
       "0                   auto               2.80  \n",
       "1                   auto               2.80  \n",
       "2                   auto               2.80  \n",
       "3             cool_stuff               1.05  \n",
       "4             cool_stuff               1.05  \n",
       "\n",
       "[5 rows x 23 columns]"
      ]
     },
     "execution_count": 23,
     "metadata": {},
     "output_type": "execute_result"
    }
   ],
   "source": [
    "df_2365=pd.merge(df_236,df_products,on='product_id',how='inner')\n",
    "df_2365.head()"
   ]
  },
  {
   "cell_type": "markdown",
   "metadata": {},
   "source": [
    "# Question 8"
   ]
  },
  {
   "cell_type": "markdown",
   "metadata": {},
   "source": [
    "/list product categories with highest Average delivery time/"
   ]
  },
  {
   "cell_type": "code",
   "execution_count": 25,
   "metadata": {},
   "outputs": [
    {
     "data": {
      "text/plain": [
       "product_category_name\n",
       "office_furniture                     20.0\n",
       "christmas_supplies                   15.0\n",
       "fashion_shoes                        15.0\n",
       "furniture_mattress_and_upholstery    14.0\n",
       "home_comfort_2                       14.0\n",
       "security_and_services                14.0\n",
       "furniture_living_room                13.0\n",
       "home_appliances_2                    13.0\n",
       "fashion_underwear_beach              13.0\n",
       "garden_tools                         13.0\n",
       "consoles_games                       13.0\n",
       "home_confort                         13.0\n",
       "computers                            13.0\n",
       "home_construction                    13.0\n",
       "audio                                13.0\n",
       "furniture_bedroom                    13.0\n",
       "computers_accessories                13.0\n",
       "fashion_male_clothing                13.0\n",
       "tablets_printing_image               12.0\n",
       "dvds_blu_ray                         12.0\n",
       "Name: order_delivery days, dtype: float64"
      ]
     },
     "execution_count": 25,
     "metadata": {},
     "output_type": "execute_result"
    }
   ],
   "source": [
    "round(df_2365.groupby('product_category_name')['order_delivery days'].mean().sort_values(ascending=False)[:20])"
   ]
  },
  {
   "cell_type": "markdown",
   "metadata": {},
   "source": [
    "The above analysis shows 20 product categories with highest delivery time .From this we can conclude that firm has to work on delivery time of these product categories for better customer service. "
   ]
  },
  {
   "cell_type": "markdown",
   "metadata": {},
   "source": [
    "/List top 20 bad orders(orders with highest delivery time)/ "
   ]
  },
  {
   "cell_type": "code",
   "execution_count": 27,
   "metadata": {},
   "outputs": [
    {
     "name": "stdout",
     "output_type": "stream",
     "text": [
      "Top 20 bad order_ids are\n"
     ]
    },
    {
     "data": {
      "text/html": [
       "<div>\n",
       "<style scoped>\n",
       "    .dataframe tbody tr th:only-of-type {\n",
       "        vertical-align: middle;\n",
       "    }\n",
       "\n",
       "    .dataframe tbody tr th {\n",
       "        vertical-align: top;\n",
       "    }\n",
       "\n",
       "    .dataframe thead th {\n",
       "        text-align: right;\n",
       "    }\n",
       "</style>\n",
       "<table border=\"1\" class=\"dataframe\">\n",
       "  <thead>\n",
       "    <tr style=\"text-align: right;\">\n",
       "      <th></th>\n",
       "      <th>customer_id</th>\n",
       "      <th>customer_unique_id</th>\n",
       "      <th>customer_state</th>\n",
       "      <th>order_id</th>\n",
       "      <th>order_status</th>\n",
       "      <th>order_purchase_timestamp</th>\n",
       "      <th>order_approved_at</th>\n",
       "      <th>order_delivered_to_carrier_date</th>\n",
       "      <th>order_delivered_to_customer_date</th>\n",
       "      <th>order_estimated_delivery_date</th>\n",
       "      <th>order_delivery days</th>\n",
       "      <th>order delivery days(new)</th>\n",
       "      <th>product_id</th>\n",
       "      <th>seller_id</th>\n",
       "      <th>price</th>\n",
       "      <th>seller_state</th>\n",
       "      <th>order_type</th>\n",
       "    </tr>\n",
       "  </thead>\n",
       "  <tbody>\n",
       "    <tr>\n",
       "      <th>39927</th>\n",
       "      <td>75683a9233</td>\n",
       "      <td>4a2519b699</td>\n",
       "      <td>ES</td>\n",
       "      <td>ca07593549</td>\n",
       "      <td>delivered</td>\n",
       "      <td>21-02-17 23:31</td>\n",
       "      <td>23-02-17 2:35</td>\n",
       "      <td>08-03-17 13:47</td>\n",
       "      <td>19-09-17 14:36</td>\n",
       "      <td>22-03-17 0:00</td>\n",
       "      <td>208</td>\n",
       "      <td>208</td>\n",
       "      <td>8eed5d27f5</td>\n",
       "      <td>2a1348e9ad</td>\n",
       "      <td>229</td>\n",
       "      <td>MG</td>\n",
       "      <td>bad order</td>\n",
       "    </tr>\n",
       "    <tr>\n",
       "      <th>29985</th>\n",
       "      <td>d306426abe</td>\n",
       "      <td>eb21169c31</td>\n",
       "      <td>RJ</td>\n",
       "      <td>1b3190b2df</td>\n",
       "      <td>delivered</td>\n",
       "      <td>23-02-18 14:57</td>\n",
       "      <td>23-02-18 15:16</td>\n",
       "      <td>26-02-18 18:49</td>\n",
       "      <td>19-09-18 23:24</td>\n",
       "      <td>15-03-18 0:00</td>\n",
       "      <td>208</td>\n",
       "      <td>208</td>\n",
       "      <td>ee406bf280</td>\n",
       "      <td>7a67c85e85</td>\n",
       "      <td>144</td>\n",
       "      <td>SP</td>\n",
       "      <td>bad order</td>\n",
       "    </tr>\n",
       "    <tr>\n",
       "      <th>74151</th>\n",
       "      <td>9cf2c3fa26</td>\n",
       "      <td>3c2564d42f</td>\n",
       "      <td>SE</td>\n",
       "      <td>285ab9426d</td>\n",
       "      <td>delivered</td>\n",
       "      <td>08-03-17 22:47</td>\n",
       "      <td>08-03-17 22:47</td>\n",
       "      <td>09-03-17 8:53</td>\n",
       "      <td>19-09-17 14:00</td>\n",
       "      <td>06-04-17 0:00</td>\n",
       "      <td>195</td>\n",
       "      <td>195</td>\n",
       "      <td>0c6fc9b931</td>\n",
       "      <td>c847e07530</td>\n",
       "      <td>429</td>\n",
       "      <td>MG</td>\n",
       "      <td>bad order</td>\n",
       "    </tr>\n",
       "    <tr>\n",
       "      <th>53775</th>\n",
       "      <td>217906bc11</td>\n",
       "      <td>c6c0b794d3</td>\n",
       "      <td>PI</td>\n",
       "      <td>2fb597c2f7</td>\n",
       "      <td>delivered</td>\n",
       "      <td>08-03-17 18:09</td>\n",
       "      <td>08-03-17 18:09</td>\n",
       "      <td>13-03-17 8:54</td>\n",
       "      <td>19-09-17 14:33</td>\n",
       "      <td>17-04-17 0:00</td>\n",
       "      <td>195</td>\n",
       "      <td>195</td>\n",
       "      <td>8ed094bfe0</td>\n",
       "      <td>a7f13822ce</td>\n",
       "      <td>239</td>\n",
       "      <td>SP</td>\n",
       "      <td>bad order</td>\n",
       "    </tr>\n",
       "    <tr>\n",
       "      <th>21084</th>\n",
       "      <td>1a8a4a30dc</td>\n",
       "      <td>4df2d7257a</td>\n",
       "      <td>PI</td>\n",
       "      <td>0f4519c5f1</td>\n",
       "      <td>delivered</td>\n",
       "      <td>09-03-17 13:26</td>\n",
       "      <td>09-03-17 13:26</td>\n",
       "      <td>22-03-17 5:28</td>\n",
       "      <td>19-09-17 14:38</td>\n",
       "      <td>11-04-17 0:00</td>\n",
       "      <td>194</td>\n",
       "      <td>194</td>\n",
       "      <td>e0d64dcfaa</td>\n",
       "      <td>7e93a43ef3</td>\n",
       "      <td>231</td>\n",
       "      <td>SP</td>\n",
       "      <td>bad order</td>\n",
       "    </tr>\n",
       "    <tr>\n",
       "      <th>39914</th>\n",
       "      <td>7815125148</td>\n",
       "      <td>f0785d41d4</td>\n",
       "      <td>PA</td>\n",
       "      <td>440d0d17af</td>\n",
       "      <td>delivered</td>\n",
       "      <td>07-03-17 23:59</td>\n",
       "      <td>09-03-17 1:11</td>\n",
       "      <td>15-03-17 13:00</td>\n",
       "      <td>19-09-17 15:12</td>\n",
       "      <td>07-04-17 0:00</td>\n",
       "      <td>194</td>\n",
       "      <td>194</td>\n",
       "      <td>3bec03860f</td>\n",
       "      <td>2a1348e9ad</td>\n",
       "      <td>159</td>\n",
       "      <td>MG</td>\n",
       "      <td>bad order</td>\n",
       "    </tr>\n",
       "    <tr>\n",
       "      <th>76190</th>\n",
       "      <td>cb2caaaead</td>\n",
       "      <td>4cb8ad9a45</td>\n",
       "      <td>SP</td>\n",
       "      <td>47b40429ed</td>\n",
       "      <td>delivered</td>\n",
       "      <td>03-01-18 9:44</td>\n",
       "      <td>03-01-18 10:31</td>\n",
       "      <td>06-02-18 1:48</td>\n",
       "      <td>13-07-18 20:51</td>\n",
       "      <td>19-01-18 0:00</td>\n",
       "      <td>191</td>\n",
       "      <td>191</td>\n",
       "      <td>ebf1c13032</td>\n",
       "      <td>cb41bfbcbd</td>\n",
       "      <td>399</td>\n",
       "      <td>SP</td>\n",
       "      <td>bad order</td>\n",
       "    </tr>\n",
       "    <tr>\n",
       "      <th>108892</th>\n",
       "      <td>65b1423788</td>\n",
       "      <td>78d26ae26b</td>\n",
       "      <td>SP</td>\n",
       "      <td>2fe324febf</td>\n",
       "      <td>delivered</td>\n",
       "      <td>13-03-17 20:17</td>\n",
       "      <td>13-03-17 20:17</td>\n",
       "      <td>17-03-17 7:23</td>\n",
       "      <td>19-09-17 17:00</td>\n",
       "      <td>05-04-17 0:00</td>\n",
       "      <td>190</td>\n",
       "      <td>190</td>\n",
       "      <td>b75683e296</td>\n",
       "      <td>df683dfda8</td>\n",
       "      <td>39</td>\n",
       "      <td>RS</td>\n",
       "      <td>bad order</td>\n",
       "    </tr>\n",
       "    <tr>\n",
       "      <th>104331</th>\n",
       "      <td>f85e9ec071</td>\n",
       "      <td>e7834c7e01</td>\n",
       "      <td>MG</td>\n",
       "      <td>c27815f7e3</td>\n",
       "      <td>delivered</td>\n",
       "      <td>15-03-17 23:23</td>\n",
       "      <td>15-03-17 23:23</td>\n",
       "      <td>21-03-17 14:50</td>\n",
       "      <td>19-09-17 17:14</td>\n",
       "      <td>10-04-17 0:00</td>\n",
       "      <td>188</td>\n",
       "      <td>188</td>\n",
       "      <td>05e8eca656</td>\n",
       "      <td>054694fa03</td>\n",
       "      <td>487</td>\n",
       "      <td>SP</td>\n",
       "      <td>bad order</td>\n",
       "    </tr>\n",
       "    <tr>\n",
       "      <th>103236</th>\n",
       "      <td>8199345f57</td>\n",
       "      <td>186a453a38</td>\n",
       "      <td>SE</td>\n",
       "      <td>2d7561026d</td>\n",
       "      <td>delivered</td>\n",
       "      <td>15-03-17 11:24</td>\n",
       "      <td>15-03-17 11:24</td>\n",
       "      <td>16-03-17 9:29</td>\n",
       "      <td>19-09-17 14:38</td>\n",
       "      <td>13-04-17 0:00</td>\n",
       "      <td>188</td>\n",
       "      <td>188</td>\n",
       "      <td>7594c5fa74</td>\n",
       "      <td>e83c76265f</td>\n",
       "      <td>32</td>\n",
       "      <td>SP</td>\n",
       "      <td>bad order</td>\n",
       "    </tr>\n",
       "    <tr>\n",
       "      <th>18362</th>\n",
       "      <td>9b39de85d9</td>\n",
       "      <td>02eb2837e7</td>\n",
       "      <td>AP</td>\n",
       "      <td>437222e3fd</td>\n",
       "      <td>delivered</td>\n",
       "      <td>16-03-17 11:36</td>\n",
       "      <td>16-03-17 11:36</td>\n",
       "      <td>21-03-17 8:22</td>\n",
       "      <td>19-09-17 16:28</td>\n",
       "      <td>28-04-17 0:00</td>\n",
       "      <td>187</td>\n",
       "      <td>187</td>\n",
       "      <td>f82a4b08cf</td>\n",
       "      <td>cca3071e3e</td>\n",
       "      <td>97</td>\n",
       "      <td>SP</td>\n",
       "      <td>bad order</td>\n",
       "    </tr>\n",
       "    <tr>\n",
       "      <th>18363</th>\n",
       "      <td>9b39de85d9</td>\n",
       "      <td>02eb2837e7</td>\n",
       "      <td>AP</td>\n",
       "      <td>437222e3fd</td>\n",
       "      <td>delivered</td>\n",
       "      <td>16-03-17 11:36</td>\n",
       "      <td>16-03-17 11:36</td>\n",
       "      <td>21-03-17 8:22</td>\n",
       "      <td>19-09-17 16:28</td>\n",
       "      <td>28-04-17 0:00</td>\n",
       "      <td>187</td>\n",
       "      <td>187</td>\n",
       "      <td>5215eef690</td>\n",
       "      <td>cca3071e3e</td>\n",
       "      <td>97</td>\n",
       "      <td>SP</td>\n",
       "      <td>bad order</td>\n",
       "    </tr>\n",
       "    <tr>\n",
       "      <th>401</th>\n",
       "      <td>8f6ceed676</td>\n",
       "      <td>70c5c8376c</td>\n",
       "      <td>RS</td>\n",
       "      <td>dfe5f68118</td>\n",
       "      <td>delivered</td>\n",
       "      <td>17-03-17 12:32</td>\n",
       "      <td>17-03-17 12:32</td>\n",
       "      <td>21-03-17 18:28</td>\n",
       "      <td>19-09-17 18:13</td>\n",
       "      <td>19-04-17 0:00</td>\n",
       "      <td>186</td>\n",
       "      <td>186</td>\n",
       "      <td>aba86c093c</td>\n",
       "      <td>7c67e1448b</td>\n",
       "      <td>119</td>\n",
       "      <td>SP</td>\n",
       "      <td>bad order</td>\n",
       "    </tr>\n",
       "    <tr>\n",
       "      <th>78183</th>\n",
       "      <td>59b42de161</td>\n",
       "      <td>cf004a3724</td>\n",
       "      <td>RS</td>\n",
       "      <td>6e82dcfb5e</td>\n",
       "      <td>delivered</td>\n",
       "      <td>17-05-17 19:09</td>\n",
       "      <td>18-05-17 19:22</td>\n",
       "      <td>19-05-17 10:57</td>\n",
       "      <td>16-11-17 10:56</td>\n",
       "      <td>14-06-17 0:00</td>\n",
       "      <td>182</td>\n",
       "      <td>182</td>\n",
       "      <td>3ce943997f</td>\n",
       "      <td>9c0e69c7bf</td>\n",
       "      <td>175</td>\n",
       "      <td>SP</td>\n",
       "      <td>bad order</td>\n",
       "    </tr>\n",
       "    <tr>\n",
       "      <th>78184</th>\n",
       "      <td>59b42de161</td>\n",
       "      <td>cf004a3724</td>\n",
       "      <td>RS</td>\n",
       "      <td>6e82dcfb5e</td>\n",
       "      <td>delivered</td>\n",
       "      <td>17-05-17 19:09</td>\n",
       "      <td>18-05-17 19:22</td>\n",
       "      <td>19-05-17 10:57</td>\n",
       "      <td>16-11-17 10:56</td>\n",
       "      <td>14-06-17 0:00</td>\n",
       "      <td>182</td>\n",
       "      <td>182</td>\n",
       "      <td>b7d94dc064</td>\n",
       "      <td>9c0e69c7bf</td>\n",
       "      <td>175</td>\n",
       "      <td>SP</td>\n",
       "      <td>bad order</td>\n",
       "    </tr>\n",
       "    <tr>\n",
       "      <th>73228</th>\n",
       "      <td>6852966131</td>\n",
       "      <td>3105d59860</td>\n",
       "      <td>GO</td>\n",
       "      <td>2ba1366bae</td>\n",
       "      <td>delivered</td>\n",
       "      <td>28-02-17 14:56</td>\n",
       "      <td>02-03-17 3:55</td>\n",
       "      <td>02-03-17 18:03</td>\n",
       "      <td>28-08-17 16:23</td>\n",
       "      <td>29-03-17 0:00</td>\n",
       "      <td>179</td>\n",
       "      <td>179</td>\n",
       "      <td>e4176515d2</td>\n",
       "      <td>8b28d09663</td>\n",
       "      <td>34</td>\n",
       "      <td>SP</td>\n",
       "      <td>bad order</td>\n",
       "    </tr>\n",
       "    <tr>\n",
       "      <th>60454</th>\n",
       "      <td>beeda72b31</td>\n",
       "      <td>beba456e33</td>\n",
       "      <td>SP</td>\n",
       "      <td>d24e854112</td>\n",
       "      <td>delivered</td>\n",
       "      <td>12-06-17 13:14</td>\n",
       "      <td>12-06-17 13:25</td>\n",
       "      <td>16-06-17 14:44</td>\n",
       "      <td>04-12-17 18:36</td>\n",
       "      <td>26-06-17 0:00</td>\n",
       "      <td>175</td>\n",
       "      <td>175</td>\n",
       "      <td>a224196b0b</td>\n",
       "      <td>cac4c8e7b1</td>\n",
       "      <td>19</td>\n",
       "      <td>SP</td>\n",
       "      <td>bad order</td>\n",
       "    </tr>\n",
       "    <tr>\n",
       "      <th>60455</th>\n",
       "      <td>beeda72b31</td>\n",
       "      <td>beba456e33</td>\n",
       "      <td>SP</td>\n",
       "      <td>d24e854112</td>\n",
       "      <td>delivered</td>\n",
       "      <td>12-06-17 13:14</td>\n",
       "      <td>12-06-17 13:25</td>\n",
       "      <td>16-06-17 14:44</td>\n",
       "      <td>04-12-17 18:36</td>\n",
       "      <td>26-06-17 0:00</td>\n",
       "      <td>175</td>\n",
       "      <td>175</td>\n",
       "      <td>4f687412e6</td>\n",
       "      <td>cac4c8e7b1</td>\n",
       "      <td>19</td>\n",
       "      <td>SP</td>\n",
       "      <td>bad order</td>\n",
       "    </tr>\n",
       "    <tr>\n",
       "      <th>1774</th>\n",
       "      <td>bc34456d3b</td>\n",
       "      <td>131697a34e</td>\n",
       "      <td>RN</td>\n",
       "      <td>3566eabb13</td>\n",
       "      <td>delivered</td>\n",
       "      <td>29-03-17 13:57</td>\n",
       "      <td>30-03-17 2:10</td>\n",
       "      <td>30-03-17 16:09</td>\n",
       "      <td>19-09-17 15:07</td>\n",
       "      <td>05-05-17 0:00</td>\n",
       "      <td>173</td>\n",
       "      <td>173</td>\n",
       "      <td>35afc97363</td>\n",
       "      <td>4a3ca9315b</td>\n",
       "      <td>89</td>\n",
       "      <td>SP</td>\n",
       "      <td>bad order</td>\n",
       "    </tr>\n",
       "    <tr>\n",
       "      <th>108599</th>\n",
       "      <td>5c42637f3e</td>\n",
       "      <td>9b1c9c3315</td>\n",
       "      <td>RR</td>\n",
       "      <td>2fa29503f2</td>\n",
       "      <td>delivered</td>\n",
       "      <td>31-03-17 15:03</td>\n",
       "      <td>31-03-17 15:15</td>\n",
       "      <td>03-04-17 14:35</td>\n",
       "      <td>19-09-17 18:24</td>\n",
       "      <td>10-05-17 0:00</td>\n",
       "      <td>172</td>\n",
       "      <td>172</td>\n",
       "      <td>bf8f8dcc88</td>\n",
       "      <td>1782ce2db7</td>\n",
       "      <td>236</td>\n",
       "      <td>SP</td>\n",
       "      <td>bad order</td>\n",
       "    </tr>\n",
       "  </tbody>\n",
       "</table>\n",
       "</div>"
      ],
      "text/plain": [
       "       customer_id customer_unique_id customer_state    order_id order_status  \\\n",
       "39927   75683a9233         4a2519b699             ES  ca07593549    delivered   \n",
       "29985   d306426abe         eb21169c31             RJ  1b3190b2df    delivered   \n",
       "74151   9cf2c3fa26         3c2564d42f             SE  285ab9426d    delivered   \n",
       "53775   217906bc11         c6c0b794d3             PI  2fb597c2f7    delivered   \n",
       "21084   1a8a4a30dc         4df2d7257a             PI  0f4519c5f1    delivered   \n",
       "39914   7815125148         f0785d41d4             PA  440d0d17af    delivered   \n",
       "76190   cb2caaaead         4cb8ad9a45             SP  47b40429ed    delivered   \n",
       "108892  65b1423788         78d26ae26b             SP  2fe324febf    delivered   \n",
       "104331  f85e9ec071         e7834c7e01             MG  c27815f7e3    delivered   \n",
       "103236  8199345f57         186a453a38             SE  2d7561026d    delivered   \n",
       "18362   9b39de85d9         02eb2837e7             AP  437222e3fd    delivered   \n",
       "18363   9b39de85d9         02eb2837e7             AP  437222e3fd    delivered   \n",
       "401     8f6ceed676         70c5c8376c             RS  dfe5f68118    delivered   \n",
       "78183   59b42de161         cf004a3724             RS  6e82dcfb5e    delivered   \n",
       "78184   59b42de161         cf004a3724             RS  6e82dcfb5e    delivered   \n",
       "73228   6852966131         3105d59860             GO  2ba1366bae    delivered   \n",
       "60454   beeda72b31         beba456e33             SP  d24e854112    delivered   \n",
       "60455   beeda72b31         beba456e33             SP  d24e854112    delivered   \n",
       "1774    bc34456d3b         131697a34e             RN  3566eabb13    delivered   \n",
       "108599  5c42637f3e         9b1c9c3315             RR  2fa29503f2    delivered   \n",
       "\n",
       "       order_purchase_timestamp order_approved_at  \\\n",
       "39927            21-02-17 23:31     23-02-17 2:35   \n",
       "29985            23-02-18 14:57    23-02-18 15:16   \n",
       "74151            08-03-17 22:47    08-03-17 22:47   \n",
       "53775            08-03-17 18:09    08-03-17 18:09   \n",
       "21084            09-03-17 13:26    09-03-17 13:26   \n",
       "39914            07-03-17 23:59     09-03-17 1:11   \n",
       "76190             03-01-18 9:44    03-01-18 10:31   \n",
       "108892           13-03-17 20:17    13-03-17 20:17   \n",
       "104331           15-03-17 23:23    15-03-17 23:23   \n",
       "103236           15-03-17 11:24    15-03-17 11:24   \n",
       "18362            16-03-17 11:36    16-03-17 11:36   \n",
       "18363            16-03-17 11:36    16-03-17 11:36   \n",
       "401              17-03-17 12:32    17-03-17 12:32   \n",
       "78183            17-05-17 19:09    18-05-17 19:22   \n",
       "78184            17-05-17 19:09    18-05-17 19:22   \n",
       "73228            28-02-17 14:56     02-03-17 3:55   \n",
       "60454            12-06-17 13:14    12-06-17 13:25   \n",
       "60455            12-06-17 13:14    12-06-17 13:25   \n",
       "1774             29-03-17 13:57     30-03-17 2:10   \n",
       "108599           31-03-17 15:03    31-03-17 15:15   \n",
       "\n",
       "       order_delivered_to_carrier_date order_delivered_to_customer_date  \\\n",
       "39927                   08-03-17 13:47                   19-09-17 14:36   \n",
       "29985                   26-02-18 18:49                   19-09-18 23:24   \n",
       "74151                    09-03-17 8:53                   19-09-17 14:00   \n",
       "53775                    13-03-17 8:54                   19-09-17 14:33   \n",
       "21084                    22-03-17 5:28                   19-09-17 14:38   \n",
       "39914                   15-03-17 13:00                   19-09-17 15:12   \n",
       "76190                    06-02-18 1:48                   13-07-18 20:51   \n",
       "108892                   17-03-17 7:23                   19-09-17 17:00   \n",
       "104331                  21-03-17 14:50                   19-09-17 17:14   \n",
       "103236                   16-03-17 9:29                   19-09-17 14:38   \n",
       "18362                    21-03-17 8:22                   19-09-17 16:28   \n",
       "18363                    21-03-17 8:22                   19-09-17 16:28   \n",
       "401                     21-03-17 18:28                   19-09-17 18:13   \n",
       "78183                   19-05-17 10:57                   16-11-17 10:56   \n",
       "78184                   19-05-17 10:57                   16-11-17 10:56   \n",
       "73228                   02-03-17 18:03                   28-08-17 16:23   \n",
       "60454                   16-06-17 14:44                   04-12-17 18:36   \n",
       "60455                   16-06-17 14:44                   04-12-17 18:36   \n",
       "1774                    30-03-17 16:09                   19-09-17 15:07   \n",
       "108599                  03-04-17 14:35                   19-09-17 18:24   \n",
       "\n",
       "       order_estimated_delivery_date  order_delivery days  \\\n",
       "39927                  22-03-17 0:00                  208   \n",
       "29985                  15-03-18 0:00                  208   \n",
       "74151                  06-04-17 0:00                  195   \n",
       "53775                  17-04-17 0:00                  195   \n",
       "21084                  11-04-17 0:00                  194   \n",
       "39914                  07-04-17 0:00                  194   \n",
       "76190                  19-01-18 0:00                  191   \n",
       "108892                 05-04-17 0:00                  190   \n",
       "104331                 10-04-17 0:00                  188   \n",
       "103236                 13-04-17 0:00                  188   \n",
       "18362                  28-04-17 0:00                  187   \n",
       "18363                  28-04-17 0:00                  187   \n",
       "401                    19-04-17 0:00                  186   \n",
       "78183                  14-06-17 0:00                  182   \n",
       "78184                  14-06-17 0:00                  182   \n",
       "73228                  29-03-17 0:00                  179   \n",
       "60454                  26-06-17 0:00                  175   \n",
       "60455                  26-06-17 0:00                  175   \n",
       "1774                   05-05-17 0:00                  173   \n",
       "108599                 10-05-17 0:00                  172   \n",
       "\n",
       "        order delivery days(new)  product_id   seller_id  price seller_state  \\\n",
       "39927                        208  8eed5d27f5  2a1348e9ad    229           MG   \n",
       "29985                        208  ee406bf280  7a67c85e85    144           SP   \n",
       "74151                        195  0c6fc9b931  c847e07530    429           MG   \n",
       "53775                        195  8ed094bfe0  a7f13822ce    239           SP   \n",
       "21084                        194  e0d64dcfaa  7e93a43ef3    231           SP   \n",
       "39914                        194  3bec03860f  2a1348e9ad    159           MG   \n",
       "76190                        191  ebf1c13032  cb41bfbcbd    399           SP   \n",
       "108892                       190  b75683e296  df683dfda8     39           RS   \n",
       "104331                       188  05e8eca656  054694fa03    487           SP   \n",
       "103236                       188  7594c5fa74  e83c76265f     32           SP   \n",
       "18362                        187  f82a4b08cf  cca3071e3e     97           SP   \n",
       "18363                        187  5215eef690  cca3071e3e     97           SP   \n",
       "401                          186  aba86c093c  7c67e1448b    119           SP   \n",
       "78183                        182  3ce943997f  9c0e69c7bf    175           SP   \n",
       "78184                        182  b7d94dc064  9c0e69c7bf    175           SP   \n",
       "73228                        179  e4176515d2  8b28d09663     34           SP   \n",
       "60454                        175  a224196b0b  cac4c8e7b1     19           SP   \n",
       "60455                        175  4f687412e6  cac4c8e7b1     19           SP   \n",
       "1774                         173  35afc97363  4a3ca9315b     89           SP   \n",
       "108599                       172  bf8f8dcc88  1782ce2db7    236           SP   \n",
       "\n",
       "       order_type  \n",
       "39927   bad order  \n",
       "29985   bad order  \n",
       "74151   bad order  \n",
       "53775   bad order  \n",
       "21084   bad order  \n",
       "39914   bad order  \n",
       "76190   bad order  \n",
       "108892  bad order  \n",
       "104331  bad order  \n",
       "103236  bad order  \n",
       "18362   bad order  \n",
       "18363   bad order  \n",
       "401     bad order  \n",
       "78183   bad order  \n",
       "78184   bad order  \n",
       "73228   bad order  \n",
       "60454   bad order  \n",
       "60455   bad order  \n",
       "1774    bad order  \n",
       "108599  bad order  "
      ]
     },
     "execution_count": 27,
     "metadata": {},
     "output_type": "execute_result"
    }
   ],
   "source": [
    "print('Top 20 bad order_ids are')\n",
    "df_236.head(20)"
   ]
  },
  {
   "cell_type": "markdown",
   "metadata": {},
   "source": [
    "# Question 9"
   ]
  },
  {
   "cell_type": "markdown",
   "metadata": {},
   "source": [
    "/Visualize state vs average delivery time/"
   ]
  },
  {
   "cell_type": "code",
   "execution_count": 28,
   "metadata": {},
   "outputs": [
    {
     "data": {
      "text/plain": [
       "seller_state\n",
       "AM    48.000000\n",
       "CE    17.280899\n",
       "MA    17.177057\n",
       "RO    17.142857\n",
       "MT    14.274648\n",
       "PI    13.363636\n",
       "BA    13.217391\n",
       "SC    12.953559\n",
       "PR    12.815986\n",
       "PA    12.750000\n",
       "RN    12.303571\n",
       "ES    12.277008\n",
       "GO    12.275591\n",
       "MG    12.243022\n",
       "PE    12.211712\n",
       "DF    11.915621\n",
       "MS    11.880000\n",
       "SP    11.685521\n",
       "SE    11.666667\n",
       "PB    11.648649\n",
       "RJ    11.466452\n",
       "RS    10.982847\n",
       "Name: order_delivery days, dtype: float64"
      ]
     },
     "execution_count": 28,
     "metadata": {},
     "output_type": "execute_result"
    }
   ],
   "source": [
    "df_236.groupby('seller_state')['order_delivery days'].mean().sort_values(ascending=False)"
   ]
  },
  {
   "cell_type": "code",
   "execution_count": 29,
   "metadata": {},
   "outputs": [
    {
     "data": {
      "image/png": "[encoded data removed]",
      "text/plain": [
       "<Figure size 720x360 with 1 Axes>"
      ]
     },
     "metadata": {
      "needs_background": "light"
     },
     "output_type": "display_data"
    }
   ],
   "source": [
    "gc=df_236.groupby('seller_state')['order_delivery days'].mean().sort_values(ascending=False).plot(kind='bar',figsize=(10,5))\n",
    "gc.set_ylabel('Average order delivery days')\n",
    "gc.set_title(\"States vs delivery time(days)\")\n",
    "plt.show()"
   ]
  },
  {
   "cell_type": "markdown",
   "metadata": {},
   "source": [
    "From analysis we can find that AM is the state with highest Average delivery time & RS is the state with lowest Average delivery time.In other states delivery time is almost equal"
   ]
  },
  {
   "cell_type": "markdown",
   "metadata": {},
   "source": [
    "# Question 10 "
   ]
  },
  {
   "cell_type": "markdown",
   "metadata": {},
   "source": [
    "/What are the Yearwise Total sum of sales(total payment value) and Quantity of sales/ "
   ]
  },
  {
   "cell_type": "code",
   "execution_count": 30,
   "metadata": {},
   "outputs": [
    {
     "data": {
      "text/html": [
       "<div>\n",
       "<style scoped>\n",
       "    .dataframe tbody tr th:only-of-type {\n",
       "        vertical-align: middle;\n",
       "    }\n",
       "\n",
       "    .dataframe tbody tr th {\n",
       "        vertical-align: top;\n",
       "    }\n",
       "\n",
       "    .dataframe thead th {\n",
       "        text-align: right;\n",
       "    }\n",
       "</style>\n",
       "<table border=\"1\" class=\"dataframe\">\n",
       "  <thead>\n",
       "    <tr style=\"text-align: right;\">\n",
       "      <th></th>\n",
       "      <th>order_id</th>\n",
       "      <th>customer_id</th>\n",
       "      <th>order_status</th>\n",
       "      <th>order_purchase_timestamp</th>\n",
       "      <th>order_approved_at</th>\n",
       "      <th>order_delivered_to_carrier_date</th>\n",
       "      <th>order_delivered_to_customer_date</th>\n",
       "      <th>order_estimated_delivery_date</th>\n",
       "      <th>order_delivery days</th>\n",
       "      <th>order delivery days(new)</th>\n",
       "      <th>payment_type</th>\n",
       "      <th>payment_value</th>\n",
       "    </tr>\n",
       "  </thead>\n",
       "  <tbody>\n",
       "    <tr>\n",
       "      <th>0</th>\n",
       "      <td>e481f51cbd</td>\n",
       "      <td>9ef432eb62</td>\n",
       "      <td>delivered</td>\n",
       "      <td>02-10-17 10:56</td>\n",
       "      <td>02-10-17 11:07</td>\n",
       "      <td>04-10-17 19:55</td>\n",
       "      <td>10-10-17 21:25</td>\n",
       "      <td>18-10-17 0:00</td>\n",
       "      <td>8</td>\n",
       "      <td>8</td>\n",
       "      <td>credit_card</td>\n",
       "      <td>18.0</td>\n",
       "    </tr>\n",
       "    <tr>\n",
       "      <th>1</th>\n",
       "      <td>e481f51cbd</td>\n",
       "      <td>9ef432eb62</td>\n",
       "      <td>delivered</td>\n",
       "      <td>02-10-17 10:56</td>\n",
       "      <td>02-10-17 11:07</td>\n",
       "      <td>04-10-17 19:55</td>\n",
       "      <td>10-10-17 21:25</td>\n",
       "      <td>18-10-17 0:00</td>\n",
       "      <td>8</td>\n",
       "      <td>8</td>\n",
       "      <td>voucher</td>\n",
       "      <td>2.0</td>\n",
       "    </tr>\n",
       "  </tbody>\n",
       "</table>\n",
       "</div>"
      ],
      "text/plain": [
       "     order_id customer_id order_status order_purchase_timestamp  \\\n",
       "0  e481f51cbd  9ef432eb62    delivered           02-10-17 10:56   \n",
       "1  e481f51cbd  9ef432eb62    delivered           02-10-17 10:56   \n",
       "\n",
       "  order_approved_at order_delivered_to_carrier_date  \\\n",
       "0    02-10-17 11:07                  04-10-17 19:55   \n",
       "1    02-10-17 11:07                  04-10-17 19:55   \n",
       "\n",
       "  order_delivered_to_customer_date order_estimated_delivery_date  \\\n",
       "0                   10-10-17 21:25                 18-10-17 0:00   \n",
       "1                   10-10-17 21:25                 18-10-17 0:00   \n",
       "\n",
       "   order_delivery days  order delivery days(new) payment_type  payment_value  \n",
       "0                    8                         8  credit_card           18.0  \n",
       "1                    8                         8      voucher            2.0  "
      ]
     },
     "execution_count": 30,
     "metadata": {},
     "output_type": "execute_result"
    }
   ],
   "source": [
    "df24.head(2)"
   ]
  },
  {
   "cell_type": "code",
   "execution_count": 31,
   "metadata": {},
   "outputs": [],
   "source": [
    "df24['order_purchase_timestamp']=pd.to_datetime(df24['order_purchase_timestamp'])"
   ]
  },
  {
   "cell_type": "code",
   "execution_count": 32,
   "metadata": {},
   "outputs": [
    {
     "data": {
      "text/html": [
       "<div>\n",
       "<style scoped>\n",
       "    .dataframe tbody tr th:only-of-type {\n",
       "        vertical-align: middle;\n",
       "    }\n",
       "\n",
       "    .dataframe tbody tr th {\n",
       "        vertical-align: top;\n",
       "    }\n",
       "\n",
       "    .dataframe thead th {\n",
       "        text-align: right;\n",
       "    }\n",
       "</style>\n",
       "<table border=\"1\" class=\"dataframe\">\n",
       "  <thead>\n",
       "    <tr style=\"text-align: right;\">\n",
       "      <th></th>\n",
       "      <th>index</th>\n",
       "      <th>order_id</th>\n",
       "      <th>customer_id</th>\n",
       "      <th>order_status</th>\n",
       "      <th>order_purchase_timestamp</th>\n",
       "      <th>order_approved_at</th>\n",
       "      <th>order_delivered_to_carrier_date</th>\n",
       "      <th>order_delivered_to_customer_date</th>\n",
       "      <th>order_estimated_delivery_date</th>\n",
       "      <th>order_delivery days</th>\n",
       "      <th>order delivery days(new)</th>\n",
       "      <th>payment_type</th>\n",
       "      <th>payment_value</th>\n",
       "    </tr>\n",
       "  </thead>\n",
       "  <tbody>\n",
       "    <tr>\n",
       "      <th>0</th>\n",
       "      <td>0</td>\n",
       "      <td>e481f51cbd</td>\n",
       "      <td>9ef432eb62</td>\n",
       "      <td>delivered</td>\n",
       "      <td>2017-02-10 10:56:00</td>\n",
       "      <td>02-10-17 11:07</td>\n",
       "      <td>04-10-17 19:55</td>\n",
       "      <td>10-10-17 21:25</td>\n",
       "      <td>18-10-17 0:00</td>\n",
       "      <td>8</td>\n",
       "      <td>8</td>\n",
       "      <td>credit_card</td>\n",
       "      <td>18.0</td>\n",
       "    </tr>\n",
       "    <tr>\n",
       "      <th>1</th>\n",
       "      <td>1</td>\n",
       "      <td>e481f51cbd</td>\n",
       "      <td>9ef432eb62</td>\n",
       "      <td>delivered</td>\n",
       "      <td>2017-02-10 10:56:00</td>\n",
       "      <td>02-10-17 11:07</td>\n",
       "      <td>04-10-17 19:55</td>\n",
       "      <td>10-10-17 21:25</td>\n",
       "      <td>18-10-17 0:00</td>\n",
       "      <td>8</td>\n",
       "      <td>8</td>\n",
       "      <td>voucher</td>\n",
       "      <td>2.0</td>\n",
       "    </tr>\n",
       "    <tr>\n",
       "      <th>2</th>\n",
       "      <td>2</td>\n",
       "      <td>e481f51cbd</td>\n",
       "      <td>9ef432eb62</td>\n",
       "      <td>delivered</td>\n",
       "      <td>2017-02-10 10:56:00</td>\n",
       "      <td>02-10-17 11:07</td>\n",
       "      <td>04-10-17 19:55</td>\n",
       "      <td>10-10-17 21:25</td>\n",
       "      <td>18-10-17 0:00</td>\n",
       "      <td>8</td>\n",
       "      <td>8</td>\n",
       "      <td>voucher</td>\n",
       "      <td>18.0</td>\n",
       "    </tr>\n",
       "    <tr>\n",
       "      <th>3</th>\n",
       "      <td>3</td>\n",
       "      <td>53cdb2fc8b</td>\n",
       "      <td>b0830fb474</td>\n",
       "      <td>delivered</td>\n",
       "      <td>2018-07-24 20:41:00</td>\n",
       "      <td>26-07-18 3:24</td>\n",
       "      <td>26-07-18 14:31</td>\n",
       "      <td>07-08-18 15:27</td>\n",
       "      <td>13-08-18 0:00</td>\n",
       "      <td>12</td>\n",
       "      <td>12</td>\n",
       "      <td>boleto</td>\n",
       "      <td>141.0</td>\n",
       "    </tr>\n",
       "    <tr>\n",
       "      <th>4</th>\n",
       "      <td>4</td>\n",
       "      <td>47770eb910</td>\n",
       "      <td>41ce2a54c0</td>\n",
       "      <td>delivered</td>\n",
       "      <td>2018-08-08 08:38:00</td>\n",
       "      <td>08-08-18 8:55</td>\n",
       "      <td>08-08-18 13:50</td>\n",
       "      <td>17-08-18 18:06</td>\n",
       "      <td>04-09-18 0:00</td>\n",
       "      <td>9</td>\n",
       "      <td>9</td>\n",
       "      <td>credit_card</td>\n",
       "      <td>179.0</td>\n",
       "    </tr>\n",
       "    <tr>\n",
       "      <th>...</th>\n",
       "      <td>...</td>\n",
       "      <td>...</td>\n",
       "      <td>...</td>\n",
       "      <td>...</td>\n",
       "      <td>...</td>\n",
       "      <td>...</td>\n",
       "      <td>...</td>\n",
       "      <td>...</td>\n",
       "      <td>...</td>\n",
       "      <td>...</td>\n",
       "      <td>...</td>\n",
       "      <td>...</td>\n",
       "      <td>...</td>\n",
       "    </tr>\n",
       "    <tr>\n",
       "      <th>103873</th>\n",
       "      <td>103873</td>\n",
       "      <td>9c5dedf39a</td>\n",
       "      <td>39bd1228ee</td>\n",
       "      <td>delivered</td>\n",
       "      <td>2017-09-03 09:54:00</td>\n",
       "      <td>09-03-17 9:54</td>\n",
       "      <td>10-03-17 11:18</td>\n",
       "      <td>17-03-17 15:08</td>\n",
       "      <td>28-03-17 0:00</td>\n",
       "      <td>8</td>\n",
       "      <td>8</td>\n",
       "      <td>credit_card</td>\n",
       "      <td>85.0</td>\n",
       "    </tr>\n",
       "    <tr>\n",
       "      <th>103874</th>\n",
       "      <td>103874</td>\n",
       "      <td>63943bddc2</td>\n",
       "      <td>1fca14ff28</td>\n",
       "      <td>delivered</td>\n",
       "      <td>2018-06-02 12:58:00</td>\n",
       "      <td>06-02-18 13:10</td>\n",
       "      <td>07-02-18 23:22</td>\n",
       "      <td>28-02-18 17:37</td>\n",
       "      <td>02-03-18 0:00</td>\n",
       "      <td>22</td>\n",
       "      <td>22</td>\n",
       "      <td>credit_card</td>\n",
       "      <td>195.0</td>\n",
       "    </tr>\n",
       "    <tr>\n",
       "      <th>103875</th>\n",
       "      <td>103875</td>\n",
       "      <td>83c1379a01</td>\n",
       "      <td>1aa71eb042</td>\n",
       "      <td>delivered</td>\n",
       "      <td>2017-08-27 14:46:00</td>\n",
       "      <td>27-08-17 15:04</td>\n",
       "      <td>28-08-17 20:52</td>\n",
       "      <td>21-09-17 11:24</td>\n",
       "      <td>27-09-17 0:00</td>\n",
       "      <td>25</td>\n",
       "      <td>25</td>\n",
       "      <td>credit_card</td>\n",
       "      <td>271.0</td>\n",
       "    </tr>\n",
       "    <tr>\n",
       "      <th>103876</th>\n",
       "      <td>103876</td>\n",
       "      <td>11c177c8e9</td>\n",
       "      <td>b331b74b18</td>\n",
       "      <td>delivered</td>\n",
       "      <td>2018-08-01 21:28:00</td>\n",
       "      <td>08-01-18 21:36</td>\n",
       "      <td>12-01-18 15:35</td>\n",
       "      <td>25-01-18 23:32</td>\n",
       "      <td>15-02-18 0:00</td>\n",
       "      <td>17</td>\n",
       "      <td>17</td>\n",
       "      <td>credit_card</td>\n",
       "      <td>441.0</td>\n",
       "    </tr>\n",
       "    <tr>\n",
       "      <th>103877</th>\n",
       "      <td>103877</td>\n",
       "      <td>66dea50a8b</td>\n",
       "      <td>edb027a75a</td>\n",
       "      <td>delivered</td>\n",
       "      <td>2018-08-03 20:57:00</td>\n",
       "      <td>09-03-18 11:20</td>\n",
       "      <td>09-03-18 22:11</td>\n",
       "      <td>16-03-18 13:08</td>\n",
       "      <td>03-04-18 0:00</td>\n",
       "      <td>7</td>\n",
       "      <td>7</td>\n",
       "      <td>debit_card</td>\n",
       "      <td>86.0</td>\n",
       "    </tr>\n",
       "  </tbody>\n",
       "</table>\n",
       "<p>103878 rows × 13 columns</p>\n",
       "</div>"
      ],
      "text/plain": [
       "         index    order_id customer_id order_status order_purchase_timestamp  \\\n",
       "0            0  e481f51cbd  9ef432eb62    delivered      2017-02-10 10:56:00   \n",
       "1            1  e481f51cbd  9ef432eb62    delivered      2017-02-10 10:56:00   \n",
       "2            2  e481f51cbd  9ef432eb62    delivered      2017-02-10 10:56:00   \n",
       "3            3  53cdb2fc8b  b0830fb474    delivered      2018-07-24 20:41:00   \n",
       "4            4  47770eb910  41ce2a54c0    delivered      2018-08-08 08:38:00   \n",
       "...        ...         ...         ...          ...                      ...   \n",
       "103873  103873  9c5dedf39a  39bd1228ee    delivered      2017-09-03 09:54:00   \n",
       "103874  103874  63943bddc2  1fca14ff28    delivered      2018-06-02 12:58:00   \n",
       "103875  103875  83c1379a01  1aa71eb042    delivered      2017-08-27 14:46:00   \n",
       "103876  103876  11c177c8e9  b331b74b18    delivered      2018-08-01 21:28:00   \n",
       "103877  103877  66dea50a8b  edb027a75a    delivered      2018-08-03 20:57:00   \n",
       "\n",
       "       order_approved_at order_delivered_to_carrier_date  \\\n",
       "0         02-10-17 11:07                  04-10-17 19:55   \n",
       "1         02-10-17 11:07                  04-10-17 19:55   \n",
       "2         02-10-17 11:07                  04-10-17 19:55   \n",
       "3          26-07-18 3:24                  26-07-18 14:31   \n",
       "4          08-08-18 8:55                  08-08-18 13:50   \n",
       "...                  ...                             ...   \n",
       "103873     09-03-17 9:54                  10-03-17 11:18   \n",
       "103874    06-02-18 13:10                  07-02-18 23:22   \n",
       "103875    27-08-17 15:04                  28-08-17 20:52   \n",
       "103876    08-01-18 21:36                  12-01-18 15:35   \n",
       "103877    09-03-18 11:20                  09-03-18 22:11   \n",
       "\n",
       "       order_delivered_to_customer_date order_estimated_delivery_date  \\\n",
       "0                        10-10-17 21:25                 18-10-17 0:00   \n",
       "1                        10-10-17 21:25                 18-10-17 0:00   \n",
       "2                        10-10-17 21:25                 18-10-17 0:00   \n",
       "3                        07-08-18 15:27                 13-08-18 0:00   \n",
       "4                        17-08-18 18:06                 04-09-18 0:00   \n",
       "...                                 ...                           ...   \n",
       "103873                   17-03-17 15:08                 28-03-17 0:00   \n",
       "103874                   28-02-18 17:37                 02-03-18 0:00   \n",
       "103875                   21-09-17 11:24                 27-09-17 0:00   \n",
       "103876                   25-01-18 23:32                 15-02-18 0:00   \n",
       "103877                   16-03-18 13:08                 03-04-18 0:00   \n",
       "\n",
       "        order_delivery days  order delivery days(new) payment_type  \\\n",
       "0                         8                         8  credit_card   \n",
       "1                         8                         8      voucher   \n",
       "2                         8                         8      voucher   \n",
       "3                        12                        12       boleto   \n",
       "4                         9                         9  credit_card   \n",
       "...                     ...                       ...          ...   \n",
       "103873                    8                         8  credit_card   \n",
       "103874                   22                        22  credit_card   \n",
       "103875                   25                        25  credit_card   \n",
       "103876                   17                        17  credit_card   \n",
       "103877                    7                         7   debit_card   \n",
       "\n",
       "        payment_value  \n",
       "0                18.0  \n",
       "1                 2.0  \n",
       "2                18.0  \n",
       "3               141.0  \n",
       "4               179.0  \n",
       "...               ...  \n",
       "103873           85.0  \n",
       "103874          195.0  \n",
       "103875          271.0  \n",
       "103876          441.0  \n",
       "103877           86.0  \n",
       "\n",
       "[103878 rows x 13 columns]"
      ]
     },
     "execution_count": 32,
     "metadata": {},
     "output_type": "execute_result"
    }
   ],
   "source": [
    "import datetime\n",
    "df24.reset_index()"
   ]
  },
  {
   "cell_type": "code",
   "execution_count": 33,
   "metadata": {},
   "outputs": [
    {
     "data": {
      "text/html": [
       "<div>\n",
       "<style scoped>\n",
       "    .dataframe tbody tr th:only-of-type {\n",
       "        vertical-align: middle;\n",
       "    }\n",
       "\n",
       "    .dataframe tbody tr th {\n",
       "        vertical-align: top;\n",
       "    }\n",
       "\n",
       "    .dataframe thead th {\n",
       "        text-align: right;\n",
       "    }\n",
       "</style>\n",
       "<table border=\"1\" class=\"dataframe\">\n",
       "  <thead>\n",
       "    <tr style=\"text-align: right;\">\n",
       "      <th></th>\n",
       "      <th>order_id</th>\n",
       "      <th>customer_id</th>\n",
       "      <th>order_status</th>\n",
       "      <th>order_purchase_timestamp</th>\n",
       "      <th>order_approved_at</th>\n",
       "      <th>order_delivered_to_carrier_date</th>\n",
       "      <th>order_delivered_to_customer_date</th>\n",
       "      <th>order_estimated_delivery_date</th>\n",
       "      <th>order_delivery days</th>\n",
       "      <th>order delivery days(new)</th>\n",
       "      <th>payment_type</th>\n",
       "      <th>payment_value</th>\n",
       "      <th>order_year</th>\n",
       "    </tr>\n",
       "  </thead>\n",
       "  <tbody>\n",
       "    <tr>\n",
       "      <th>0</th>\n",
       "      <td>e481f51cbd</td>\n",
       "      <td>9ef432eb62</td>\n",
       "      <td>delivered</td>\n",
       "      <td>2017-02-10 10:56:00</td>\n",
       "      <td>02-10-17 11:07</td>\n",
       "      <td>04-10-17 19:55</td>\n",
       "      <td>10-10-17 21:25</td>\n",
       "      <td>18-10-17 0:00</td>\n",
       "      <td>8</td>\n",
       "      <td>8</td>\n",
       "      <td>credit_card</td>\n",
       "      <td>18.0</td>\n",
       "      <td>2017</td>\n",
       "    </tr>\n",
       "    <tr>\n",
       "      <th>1</th>\n",
       "      <td>e481f51cbd</td>\n",
       "      <td>9ef432eb62</td>\n",
       "      <td>delivered</td>\n",
       "      <td>2017-02-10 10:56:00</td>\n",
       "      <td>02-10-17 11:07</td>\n",
       "      <td>04-10-17 19:55</td>\n",
       "      <td>10-10-17 21:25</td>\n",
       "      <td>18-10-17 0:00</td>\n",
       "      <td>8</td>\n",
       "      <td>8</td>\n",
       "      <td>voucher</td>\n",
       "      <td>2.0</td>\n",
       "      <td>2017</td>\n",
       "    </tr>\n",
       "    <tr>\n",
       "      <th>2</th>\n",
       "      <td>e481f51cbd</td>\n",
       "      <td>9ef432eb62</td>\n",
       "      <td>delivered</td>\n",
       "      <td>2017-02-10 10:56:00</td>\n",
       "      <td>02-10-17 11:07</td>\n",
       "      <td>04-10-17 19:55</td>\n",
       "      <td>10-10-17 21:25</td>\n",
       "      <td>18-10-17 0:00</td>\n",
       "      <td>8</td>\n",
       "      <td>8</td>\n",
       "      <td>voucher</td>\n",
       "      <td>18.0</td>\n",
       "      <td>2017</td>\n",
       "    </tr>\n",
       "    <tr>\n",
       "      <th>3</th>\n",
       "      <td>53cdb2fc8b</td>\n",
       "      <td>b0830fb474</td>\n",
       "      <td>delivered</td>\n",
       "      <td>2018-07-24 20:41:00</td>\n",
       "      <td>26-07-18 3:24</td>\n",
       "      <td>26-07-18 14:31</td>\n",
       "      <td>07-08-18 15:27</td>\n",
       "      <td>13-08-18 0:00</td>\n",
       "      <td>12</td>\n",
       "      <td>12</td>\n",
       "      <td>boleto</td>\n",
       "      <td>141.0</td>\n",
       "      <td>2018</td>\n",
       "    </tr>\n",
       "    <tr>\n",
       "      <th>4</th>\n",
       "      <td>47770eb910</td>\n",
       "      <td>41ce2a54c0</td>\n",
       "      <td>delivered</td>\n",
       "      <td>2018-08-08 08:38:00</td>\n",
       "      <td>08-08-18 8:55</td>\n",
       "      <td>08-08-18 13:50</td>\n",
       "      <td>17-08-18 18:06</td>\n",
       "      <td>04-09-18 0:00</td>\n",
       "      <td>9</td>\n",
       "      <td>9</td>\n",
       "      <td>credit_card</td>\n",
       "      <td>179.0</td>\n",
       "      <td>2018</td>\n",
       "    </tr>\n",
       "  </tbody>\n",
       "</table>\n",
       "</div>"
      ],
      "text/plain": [
       "     order_id customer_id order_status order_purchase_timestamp  \\\n",
       "0  e481f51cbd  9ef432eb62    delivered      2017-02-10 10:56:00   \n",
       "1  e481f51cbd  9ef432eb62    delivered      2017-02-10 10:56:00   \n",
       "2  e481f51cbd  9ef432eb62    delivered      2017-02-10 10:56:00   \n",
       "3  53cdb2fc8b  b0830fb474    delivered      2018-07-24 20:41:00   \n",
       "4  47770eb910  41ce2a54c0    delivered      2018-08-08 08:38:00   \n",
       "\n",
       "  order_approved_at order_delivered_to_carrier_date  \\\n",
       "0    02-10-17 11:07                  04-10-17 19:55   \n",
       "1    02-10-17 11:07                  04-10-17 19:55   \n",
       "2    02-10-17 11:07                  04-10-17 19:55   \n",
       "3     26-07-18 3:24                  26-07-18 14:31   \n",
       "4     08-08-18 8:55                  08-08-18 13:50   \n",
       "\n",
       "  order_delivered_to_customer_date order_estimated_delivery_date  \\\n",
       "0                   10-10-17 21:25                 18-10-17 0:00   \n",
       "1                   10-10-17 21:25                 18-10-17 0:00   \n",
       "2                   10-10-17 21:25                 18-10-17 0:00   \n",
       "3                   07-08-18 15:27                 13-08-18 0:00   \n",
       "4                   17-08-18 18:06                 04-09-18 0:00   \n",
       "\n",
       "   order_delivery days  order delivery days(new) payment_type  payment_value  \\\n",
       "0                    8                         8  credit_card           18.0   \n",
       "1                    8                         8      voucher            2.0   \n",
       "2                    8                         8      voucher           18.0   \n",
       "3                   12                        12       boleto          141.0   \n",
       "4                    9                         9  credit_card          179.0   \n",
       "\n",
       "   order_year  \n",
       "0        2017  \n",
       "1        2017  \n",
       "2        2017  \n",
       "3        2018  \n",
       "4        2018  "
      ]
     },
     "execution_count": 33,
     "metadata": {},
     "output_type": "execute_result"
    }
   ],
   "source": [
    "df24['order_year']=pd.DatetimeIndex(df24['order_purchase_timestamp']).year\n",
    "df24.head()"
   ]
  },
  {
   "cell_type": "code",
   "execution_count": 34,
   "metadata": {},
   "outputs": [],
   "source": [
    "df24['order_month']=pd.DatetimeIndex(df24['order_purchase_timestamp']).month"
   ]
  },
  {
   "cell_type": "code",
   "execution_count": 68,
   "metadata": {},
   "outputs": [],
   "source": [
    "Dataset.to_csv('Dataset.csv')"
   ]
  },
  {
   "cell_type": "code",
   "execution_count": 21,
   "metadata": {},
   "outputs": [
    {
     "data": {
      "text/plain": [
       "2018    56011\n",
       "2017    47520\n",
       "2016      347\n",
       "Name: order_year, dtype: int64"
      ]
     },
     "execution_count": 21,
     "metadata": {},
     "output_type": "execute_result"
    }
   ],
   "source": [
    "c=pd.value_counts(df24['order_year'])   \n",
    "c"
   ]
  },
  {
   "cell_type": "markdown",
   "metadata": {},
   "source": [
    "From above analysis we can see that only 347 orders were placed in year 2016,which can tell us that business was in growing stage in this year or it had started late or in end of 2016."
   ]
  },
  {
   "cell_type": "code",
   "execution_count": 27,
   "metadata": {},
   "outputs": [
    {
     "data": {
      "text/plain": [
       "order_year\n",
       "2016      58714.0\n",
       "2017    7211902.0\n",
       "2018    8639226.0\n",
       "Name: payment_value, dtype: float64"
      ]
     },
     "execution_count": 27,
     "metadata": {},
     "output_type": "execute_result"
    }
   ],
   "source": [
    "b=df24.groupby('order_year')['payment_value'].sum()\n",
    "b"
   ]
  },
  {
   "cell_type": "code",
   "execution_count": 28,
   "metadata": {},
   "outputs": [
    {
     "data": {
      "text/plain": [
       "order_year\n",
       "2016      344\n",
       "2017    47401\n",
       "2018    55853\n",
       "Name: payment_value, dtype: int64"
      ]
     },
     "execution_count": 28,
     "metadata": {},
     "output_type": "execute_result"
    }
   ],
   "source": [
    "ab=df24.groupby('order_year')['payment_value'].count()   \n",
    "ab"
   ]
  },
  {
   "cell_type": "code",
   "execution_count": 26,
   "metadata": {},
   "outputs": [
    {
     "data": {
      "image/png": "[encoded data removed]",
      "text/plain": [
       "<Figure size 432x288 with 1 Axes>"
      ]
     },
     "metadata": {
      "needs_background": "light"
     },
     "output_type": "display_data"
    }
   ],
   "source": [
    "ax=b.plot(kind='bar')\n",
    "sns.set_style('darkgrid')\n",
    "ax.set_title('Yearwise total Sales')\n",
    "ax.set_ylabel('sum of sales')\n",
    "ax.set_xlabel('year')\n",
    "plt.show()"
   ]
  },
  {
   "cell_type": "markdown",
   "metadata": {},
   "source": [
    "The total sum of sales of year 2016 is significantly lower than 2017 & 2018.From this ananlysis we can hypothesize that business was in growing stage in 2016,it has taken significant growth in next 2 years."
   ]
  },
  {
   "cell_type": "markdown",
   "metadata": {},
   "source": [
    "# Question 11"
   ]
  },
  {
   "cell_type": "markdown",
   "metadata": {},
   "source": [
    "/Plot order trend(Number of orders) across every month/"
   ]
  },
  {
   "cell_type": "code",
   "execution_count": 398,
   "metadata": {},
   "outputs": [
    {
     "data": {
      "text/plain": [
       "order_month\n",
       "1      8751\n",
       "2      8528\n",
       "3      9726\n",
       "4      9509\n",
       "5      9766\n",
       "6      9344\n",
       "7     10815\n",
       "8      9418\n",
       "9      6150\n",
       "10     6265\n",
       "11     9407\n",
       "12     6199\n",
       "Name: order_id, dtype: int64"
      ]
     },
     "execution_count": 398,
     "metadata": {},
     "output_type": "execute_result"
    }
   ],
   "source": [
    "order_trend =df24.groupby('order_month')['order_id'].count()\n",
    "order_trend"
   ]
  },
  {
   "cell_type": "code",
   "execution_count": 33,
   "metadata": {},
   "outputs": [
    {
     "data": {
      "text/plain": [
       "order_month\n",
       "1     1336337.0\n",
       "2     1250802.0\n",
       "3     1505605.0\n",
       "4     1498770.0\n",
       "5     1523216.0\n",
       "6     1442659.0\n",
       "7     1657364.0\n",
       "8     1381208.0\n",
       "9      961550.0\n",
       "10     984838.0\n",
       "11    1430263.0\n",
       "12     937230.0\n",
       "Name: payment_value, dtype: float64"
      ]
     },
     "execution_count": 33,
     "metadata": {},
     "output_type": "execute_result"
    }
   ],
   "source": [
    "l=df24.groupby('order_month')['payment_value'].sum()   # sum of paymnents in every month#\n",
    "l"
   ]
  },
  {
   "cell_type": "code",
   "execution_count": 405,
   "metadata": {},
   "outputs": [
    {
     "data": {
      "image/png": "[encoded data removed]",
      "text/plain": [
       "<Figure size 792x360 with 1 Axes>"
      ]
     },
     "metadata": {},
     "output_type": "display_data"
    }
   ],
   "source": [
    "sns.set(style='darkgrid')\n",
    "f=order_trend.plot(kind=\"line\",figsize=(11,5))\n",
    "f.set_ylabel('No of orders')\n",
    "f.set_title('Orders Trend across months(all 3 years)')\n",
    "plt.show()"
   ]
  },
  {
   "cell_type": "markdown",
   "metadata": {},
   "source": [
    "From above analysis we can conclude that No of orders were almost equal in 3-6 month, lower in 9th,10th,12th month.\n",
    "But its was highest in 7th month maybe this can be due to a sale in that period of time.There was a significant downfall after 8th & 11th month.  "
   ]
  },
  {
   "cell_type": "markdown",
   "metadata": {},
   "source": [
    "# Question 12"
   ]
  },
  {
   "cell_type": "markdown",
   "metadata": {},
   "source": [
    "# User_feedback"
   ]
  },
  {
   "cell_type": "code",
   "execution_count": 34,
   "metadata": {},
   "outputs": [
    {
     "data": {
      "text/html": [
       "<div>\n",
       "<style scoped>\n",
       "    .dataframe tbody tr th:only-of-type {\n",
       "        vertical-align: middle;\n",
       "    }\n",
       "\n",
       "    .dataframe tbody tr th {\n",
       "        vertical-align: top;\n",
       "    }\n",
       "\n",
       "    .dataframe thead th {\n",
       "        text-align: right;\n",
       "    }\n",
       "</style>\n",
       "<table border=\"1\" class=\"dataframe\">\n",
       "  <thead>\n",
       "    <tr style=\"text-align: right;\">\n",
       "      <th></th>\n",
       "      <th>review_id</th>\n",
       "      <th>order_id</th>\n",
       "      <th>review_score</th>\n",
       "      <th>survey_sent_date</th>\n",
       "      <th>survey_answer_timestamp</th>\n",
       "    </tr>\n",
       "  </thead>\n",
       "  <tbody>\n",
       "    <tr>\n",
       "      <th>0</th>\n",
       "      <td>7bc2406110b926393aa56f80a40eba40</td>\n",
       "      <td>73fc7af871</td>\n",
       "      <td>4</td>\n",
       "      <td>2018-01-18 00:00:00</td>\n",
       "      <td>2018-01-18 21:46:59</td>\n",
       "    </tr>\n",
       "    <tr>\n",
       "      <th>1</th>\n",
       "      <td>80e641a11e56f04c1ad469d5645fdfde</td>\n",
       "      <td>a548910a1c</td>\n",
       "      <td>5</td>\n",
       "      <td>2018-03-10 00:00:00</td>\n",
       "      <td>2018-03-11 03:05:13</td>\n",
       "    </tr>\n",
       "    <tr>\n",
       "      <th>2</th>\n",
       "      <td>228ce5500dc1d8e020d8d1322874b6f0</td>\n",
       "      <td>f9e4b658b2</td>\n",
       "      <td>5</td>\n",
       "      <td>2018-02-17 00:00:00</td>\n",
       "      <td>2018-02-18 14:36:24</td>\n",
       "    </tr>\n",
       "    <tr>\n",
       "      <th>3</th>\n",
       "      <td>e64fb393e7b32834bb789ff8bb30750e</td>\n",
       "      <td>658677c97b</td>\n",
       "      <td>5</td>\n",
       "      <td>2017-04-21 00:00:00</td>\n",
       "      <td>2017-04-21 22:02:06</td>\n",
       "    </tr>\n",
       "    <tr>\n",
       "      <th>4</th>\n",
       "      <td>f7c4243c7fe1938f181bec41a392bdeb</td>\n",
       "      <td>8e6bfb81e2</td>\n",
       "      <td>5</td>\n",
       "      <td>2018-03-01 00:00:00</td>\n",
       "      <td>2018-03-02 10:26:53</td>\n",
       "    </tr>\n",
       "  </tbody>\n",
       "</table>\n",
       "</div>"
      ],
      "text/plain": [
       "                          review_id    order_id  review_score  \\\n",
       "0  7bc2406110b926393aa56f80a40eba40  73fc7af871             4   \n",
       "1  80e641a11e56f04c1ad469d5645fdfde  a548910a1c             5   \n",
       "2  228ce5500dc1d8e020d8d1322874b6f0  f9e4b658b2             5   \n",
       "3  e64fb393e7b32834bb789ff8bb30750e  658677c97b             5   \n",
       "4  f7c4243c7fe1938f181bec41a392bdeb  8e6bfb81e2             5   \n",
       "\n",
       "      survey_sent_date survey_answer_timestamp  \n",
       "0  2018-01-18 00:00:00     2018-01-18 21:46:59  \n",
       "1  2018-03-10 00:00:00     2018-03-11 03:05:13  \n",
       "2  2018-02-17 00:00:00     2018-02-18 14:36:24  \n",
       "3  2017-04-21 00:00:00     2017-04-21 22:02:06  \n",
       "4  2018-03-01 00:00:00     2018-03-02 10:26:53  "
      ]
     },
     "execution_count": 34,
     "metadata": {},
     "output_type": "execute_result"
    }
   ],
   "source": [
    "df_user_feedback.head()"
   ]
  },
  {
   "cell_type": "code",
   "execution_count": 391,
   "metadata": {},
   "outputs": [
    {
     "data": {
      "image/png": "[encoded data removed]",
      "text/plain": [
       "<Figure size 432x288 with 1 Axes>"
      ]
     },
     "metadata": {},
     "output_type": "display_data"
    }
   ],
   "source": [
    "a1 = sns.countplot(y=\"review_score\", data=df_user_feedback )"
   ]
  },
  {
   "cell_type": "markdown",
   "metadata": {},
   "source": [
    "Users have mostly given review score 5 which states us that most of the customers are satisfied with service provided by the firm."
   ]
  },
  {
   "cell_type": "markdown",
   "metadata": {},
   "source": [
    "# Conclusions From above analysis"
   ]
  },
  {
   "cell_type": "markdown",
   "metadata": {},
   "source": [
    "Sales\n",
    "\n",
    "-The total sum of sales of year 2016 is significantly lower than 2017 & 2018.From this ananlysis we can hypothesize that business was in growing stage in 2016,it has taken significant growth in next 2 years.\n",
    "\n",
    "-No of orders were almost equal in 3-6 month, lower in 9th,10th,12th month. But its was highest in 7th month maybe this can be due to a sale in that period of time.There was a significant downfall after 8th & 11th month.\n",
    "\n",
    "-Orders\n",
    "-97% of orders have order_status 'delivered',1% have order_status 'shipped',0.62% are 'cancelled'. This states that performance of firm is good in fulfilling the orders.\n",
    "-SP is the state with maxium no of orders & Maximum % of orders are from first 7 states(SP,RJ,MG,RS,PR,SC,BA).\n",
    "\n",
    "Products & Payments\n",
    "\n",
    "-The Quantities of 'bed_bath_table' sold is higher and also its sales is higher as compared to other categories.\n",
    "-bed_bath_table,health_beauty,computer_accessories ,watch_gifts,furniture_decor are have highest sum of sales.\n",
    "-Average_Payment_amount is similar for debit card,boleto,credit_card but lower for voucher mode.No of payments & total sum of payments is highest for credit card. This shows us that most of the customers prefers credit card as comapared to other modes\n",
    "\n",
    "Delivery\n",
    "\n",
    "-The average days reqiured to deliver a product to a customer is 12 days.\n",
    "-But,The delivery time of most of orders were between \"6-9 Days\".\n",
    "-From analysis we can find that AM is the state with highest Average delivery time & RS is the state with lowest Average delivery time.In other states delivery time is almost equal.\n",
    "-Firm has to work on delivery time of Some product categories for better customer service.\n",
    "-Also percentages of 'good orders'is higher,Which means delivery time of 45% of orders are more than 10 days and 55% orders are delivered in less than 10 days.\n",
    "\n",
    "User_feedback\n",
    "\n",
    "-Users have mostly given review score 5 which states us that most of the customers are satisfied with service provided by the firm.\n"
   ]
  }
 ],
 "metadata": {
  "kernelspec": {
   "display_name": "Python 3",
   "language": "python",
   "name": "python3"
  },
  "language_info": {
   "codemirror_mode": {
    "name": "ipython",
    "version": 3
   },
   "file_extension": ".py",
   "mimetype": "text/x-python",
   "name": "python",
   "nbconvert_exporter": "python",
   "pygments_lexer": "ipython3",
   "version": "3.7.6"
  }
 },
 "nbformat": 4,
 "nbformat_minor": 4
}
